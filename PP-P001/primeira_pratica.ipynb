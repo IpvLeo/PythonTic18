{
 "cells": [
  {
   "cell_type": "markdown",
   "id": "29ddbb87",
   "metadata": {},
   "source": [
    "### Exercício 2: Manipulação de variáveis de tipo inteiro, explorando as características\n",
    "\n",
    "#### Operadores aritméticos\n",
    "\n",
    "Os operadores em Python são semelhantes aos operadores presentes no C/C++, com a diferença em que na divisão entre dois inteiros, no Python é possível que o resultado seja um float, enquanto no C/C++ o resultado é um inteiro, para obter um resultado dessa natureza no Python, deve-se utilizar o operador //, outra diferença do Python é o operador ** que representa a potência, que em C++ costuma-se utilizar a biblioteca 'math.h' para operação desse tipo. Segue exemplos dos operadores:"
   ]
  },
  {
   "cell_type": "code",
   "execution_count": 12,
   "id": "ced6fd32",
   "metadata": {},
   "outputs": [
    {
     "name": "stdout",
     "output_type": "stream",
     "text": [
      "Soma: 7\n",
      "Subtracao: 2\n",
      "Multiplicação: 6\n",
      "Divisão: 2.5\n",
      "Divisão Inteira: 2\n",
      "Resto da Divisão: 1\n",
      "Potência: 8\n",
      "Unário Negativo: -2\n"
     ]
    }
   ],
   "source": [
    "soma = 2 + 5\n",
    "subtracao = 5 - 3\n",
    "multiplicacao = 2 * 3\n",
    "divisao = 5 / 2\n",
    "divisao_inteira = 5 // 2\n",
    "resto_divisao = 7 % 3\n",
    "potencia = 2 ** 3\n",
    "unario_negativo = 2\n",
    "unario_negativo = -unario_negativo\n",
    "print(\"Soma:\", soma)\n",
    "print(\"Subtracao:\", subtracao)\n",
    "print(\"Multiplicação:\", multiplicacao)\n",
    "print(\"Divisão:\", divisao)\n",
    "print(\"Divisão Inteira:\", divisao_inteira)\n",
    "print(\"Resto da Divisão:\", resto_divisao)\n",
    "print(\"Potência:\", potencia)\n",
    "print(\"Unário Negativo:\", unario_negativo)"
   ]
  },
  {
   "cell_type": "markdown",
   "id": "41603d13",
   "metadata": {},
   "source": [
    "#### Operadores aritméticos compostos\n",
    "\n",
    "No Python, temos a adição de novos operadores compostos que não estão presentes no C/C++, como //= e o \\**= que são exatamente os novos operadores aritméticos presentes no python, como vistos anteriormente. Segue os exemplos:"
   ]
  },
  {
   "cell_type": "code",
   "execution_count": 14,
   "id": "15e8ce05",
   "metadata": {},
   "outputs": [
    {
     "name": "stdout",
     "output_type": "stream",
     "text": [
      "Soma Composta: 5\n",
      "Subtracao Composta: -2\n",
      "Multiplicação Composta: 4\n",
      "Divisão Composta: 0.5\n",
      "Divisão Inteira Composta: 0\n",
      "Resto da Divisão Composta: 2\n",
      "Potência Composta: 8\n"
     ]
    }
   ],
   "source": [
    "soma_composta = subtracao_composta = multiplicacao_composta = divisao_composta = divisao_inteira_composta = resto_divisao_composta = potencia_composta = 2\n",
    "\n",
    "soma_composta += 3\n",
    "subtracao_composta -= 4\n",
    "multiplicacao_composta *= 2\n",
    "divisao_composta /= 4\n",
    "divisao_inteira_composta //= 4\n",
    "resto_divisao_composta %= 3\n",
    "potencia_composta **= 3\n",
    "print(\"Soma Composta:\", soma_composta)\n",
    "print(\"Subtracao Composta:\", subtracao_composta)\n",
    "print(\"Multiplicação Composta:\", multiplicacao_composta)\n",
    "print(\"Divisão Composta:\", divisao_composta)\n",
    "print(\"Divisão Inteira Composta:\", divisao_inteira_composta)\n",
    "print(\"Resto da Divisão Composta:\", resto_divisao_composta)\n",
    "print(\"Potência Composta:\", potencia_composta)"
   ]
  },
  {
   "cell_type": "markdown",
   "id": "ad9db685",
   "metadata": {},
   "source": [
    "#### Teste de inteiro com fatorial"
   ]
  },
  {
   "cell_type": "code",
   "execution_count": 11,
   "id": "a43ad841",
   "metadata": {},
   "outputs": [
    {
     "name": "stdout",
     "output_type": "stream",
     "text": [
      "8841761993739701954543616000000\n"
     ]
    }
   ],
   "source": [
    "fatorial = 1\n",
    "for i in range(1,30):\n",
    "    fatorial *= i\n",
    "\n",
    "print(fatorial)"
   ]
  },
  {
   "cell_type": "markdown",
   "id": "93241eba",
   "metadata": {},
   "source": [
    "Diferentemente do resultado acima obtido em Python, no C++, o fatorial de 30 tem como resultante '1409286144' devido ao limite de tamanho atribuído ao tipo inteiro que vai até '2147483647' positivo.\n",
    "\n",
    "#### Variáveis númericas são imutáveis"
   ]
  },
  {
   "cell_type": "code",
   "execution_count": 17,
   "id": "29d27780",
   "metadata": {},
   "outputs": [
    {
     "name": "stdout",
     "output_type": "stream",
     "text": [
      "Valor de num1: 25\n",
      "Valor de num2 antes de alterar num2: 25\n",
      "Valor de num1: 32\n",
      "Valor de num2 depois de alterar num2: 25\n",
      "25\n"
     ]
    }
   ],
   "source": [
    "num1 = 25\n",
    "num2 = num1\n",
    "print(\"Valor de num1:\", num1)\n",
    "print(\"Valor de num2 antes de alterar num2:\", num2)\n",
    "\n",
    "num1 = 32\n",
    "print(\"Valor de num1:\", num1)\n",
    "print(\"Valor de num2 depois de alterar num2:\", num2)"
   ]
  },
  {
   "cell_type": "markdown",
   "id": "e0bc3d2a",
   "metadata": {},
   "source": [
    "No Python, o valor da variável não é mutável, mas sim para qual referência a variável está apontando na memória, no exemplo acima, foi reservado um novo espaço da memória para num1, quando foi feito \"num2 = num1\", num2 passou a apontar para o mesmo espaço de memória que num1 estava apontando, e ao atribuirmos um novo valor para num1, o espaço de memória anterior não é alterado e continua existindo, dessa forma, num1 passa a apontar para um novo espaço de memória que está armazenando o novo valor e num2 continua apontando para o espaço de memória inicial.\n",
    "\n",
    "#### Métodos disponíveis para variáveis inteiras\n",
    "\n",
    "Executando o código abaixo, temos como resultado todos os métodos disponíveis para variáveis inteiras no Python:"
   ]
  },
  {
   "cell_type": "code",
   "execution_count": 18,
   "id": "5f1c4246",
   "metadata": {},
   "outputs": [
    {
     "name": "stdout",
     "output_type": "stream",
     "text": [
      "['__abs__', '__add__', '__and__', '__bool__', '__ceil__', '__class__', '__delattr__', '__dir__', '__divmod__', '__doc__', '__eq__', '__float__', '__floor__', '__floordiv__', '__format__', '__ge__', '__getattribute__', '__getnewargs__', '__getstate__', '__gt__', '__hash__', '__index__', '__init__', '__init_subclass__', '__int__', '__invert__', '__le__', '__lshift__', '__lt__', '__mod__', '__mul__', '__ne__', '__neg__', '__new__', '__or__', '__pos__', '__pow__', '__radd__', '__rand__', '__rdivmod__', '__reduce__', '__reduce_ex__', '__repr__', '__rfloordiv__', '__rlshift__', '__rmod__', '__rmul__', '__ror__', '__round__', '__rpow__', '__rrshift__', '__rshift__', '__rsub__', '__rtruediv__', '__rxor__', '__setattr__', '__sizeof__', '__str__', '__sub__', '__subclasshook__', '__truediv__', '__trunc__', '__xor__', 'as_integer_ratio', 'bit_count', 'bit_length', 'conjugate', 'denominator', 'from_bytes', 'imag', 'numerator', 'real', 'to_bytes']\n"
     ]
    }
   ],
   "source": [
    "numero = 2\n",
    "metodos_disponiveis = dir(numero)\n",
    "print(metodos_disponiveis)"
   ]
  },
  {
   "cell_type": "markdown",
   "id": "a426326c",
   "metadata": {},
   "source": [
    "### Exercício 3: Manipulação de variáveis de tipo string e explorando o uso de print\n",
    "\n",
    "Caracteres de 1 a 9 com seus códigos correspondentes da tabela ASCII:"
   ]
  },
  {
   "cell_type": "code",
   "execution_count": 25,
   "id": "4a8c081f",
   "metadata": {},
   "outputs": [
    {
     "name": "stdout",
     "output_type": "stream",
     "text": [
      "'0' - 48\n",
      "'1' - 49\n",
      "'2' - 50\n",
      "'3' - 51\n",
      "'4' - 52\n",
      "'5' - 53\n",
      "'6' - 54\n",
      "'7' - 55\n",
      "'8' - 56\n",
      "'9' - 57\n"
     ]
    }
   ],
   "source": [
    "for i in range(10):\n",
    "    char = str(i)\n",
    "    inteiro = ord(char)\n",
    "    print(f\"'{char}' - {inteiro} \")"
   ]
  },
  {
   "cell_type": "markdown",
   "id": "fa36b9cc",
   "metadata": {},
   "source": [
    "Alterando o código para adicionar as representações em Octal e Hexadecimal:"
   ]
  },
  {
   "cell_type": "code",
   "execution_count": 26,
   "id": "6edbeced",
   "metadata": {},
   "outputs": [
    {
     "name": "stdout",
     "output_type": "stream",
     "text": [
      "'0' - 48 - '0o60' - '0x30'\n",
      "'1' - 49 - '0o61' - '0x31'\n",
      "'2' - 50 - '0o62' - '0x32'\n",
      "'3' - 51 - '0o63' - '0x33'\n",
      "'4' - 52 - '0o64' - '0x34'\n",
      "'5' - 53 - '0o65' - '0x35'\n",
      "'6' - 54 - '0o66' - '0x36'\n",
      "'7' - 55 - '0o67' - '0x37'\n",
      "'8' - 56 - '0o70' - '0x38'\n",
      "'9' - 57 - '0o71' - '0x39'\n"
     ]
    }
   ],
   "source": [
    "for i in range(10):\n",
    "    char = str(i)\n",
    "    inteiro = ord(char)\n",
    "    print(f\"'{char}' - {inteiro} - '{oct(inteiro)}' - '{hex(inteiro)}'\")"
   ]
  },
  {
   "cell_type": "markdown",
   "id": "da98d03f",
   "metadata": {},
   "source": [
    "Alterando o código para adicionar entrada do teclado:"
   ]
  },
  {
   "cell_type": "code",
   "execution_count": 28,
   "id": "ed93572e",
   "metadata": {},
   "outputs": [
    {
     "name": "stdout",
     "output_type": "stream",
     "text": [
      "Digite o caracter: a\n",
      "'a' - 97 - '0o141' - '0x61'\n"
     ]
    }
   ],
   "source": [
    "n = input(\"Digite o caracter: \")\n",
    "\n",
    "char = str(n)\n",
    "inteiro = ord(char)\n",
    "print(f\"'{char}' - {inteiro} - '{oct(inteiro)}' - '{hex(inteiro)}'\")"
   ]
  },
  {
   "cell_type": "markdown",
   "id": "e2bf0f9e",
   "metadata": {},
   "source": [
    "Demonstração da representação do cedilha e do 'ã':"
   ]
  },
  {
   "cell_type": "code",
   "execution_count": 32,
   "id": "6a46651d",
   "metadata": {},
   "outputs": [
    {
     "name": "stdout",
     "output_type": "stream",
     "text": [
      "'ç' - 231 - '0o347' - '0xe7'\n",
      "'ã' - 227 - '0o343' - '0xe3'\n"
     ]
    }
   ],
   "source": [
    "cedilha = 'ç'\n",
    "til = 'ã'\n",
    "\n",
    "char = str(cedilha)\n",
    "inteiro = ord(char)\n",
    "print(f\"'{char}' - {inteiro} - '{oct(inteiro)}' - '{hex(inteiro)}'\")\n",
    "\n",
    "char = str(til)\n",
    "inteiro = ord(char)\n",
    "print(f\"'{char}' - {inteiro} - '{oct(inteiro)}' - '{hex(inteiro)}'\")"
   ]
  },
  {
   "cell_type": "markdown",
   "id": "1e72716b",
   "metadata": {},
   "source": [
    "Em resumo, no Python o 'ç' e o 'â' são tratados como parte do conjunto de caracteres Unicode, ou seja, é possível trabalhar com esses caracteres diretamente, sem a necessidade de uma manipulação extra."
   ]
  },
  {
   "cell_type": "markdown",
   "id": "1c10c34d",
   "metadata": {},
   "source": [
    "### Exercício 4: Manipulação de variáveis de tipo string e explorando os métodos da classe\n",
    "\n",
    "#### "
   ]
  },
  {
   "cell_type": "code",
   "execution_count": 40,
   "id": "9222bdbb",
   "metadata": {},
   "outputs": [
    {
     "name": "stdout",
     "output_type": "stream",
     "text": [
      "Nome:Valber\n",
      "Sobrenome:Francisco dos Santos\n",
      "Francisco dos Santos antecede Valber\n",
      "Tamanho do nome: 6\n",
      "Tamanho do sobrenome: 20\n",
      "Valber não é palíndromo\n"
     ]
    }
   ],
   "source": [
    "nome = \"Valber Francisco dos Santos\"\n",
    "nome = nome.split()\n",
    "\n",
    "sobrenome = nome[1] + \" \" + nome[2] + \" \" + nome[3]\n",
    "nome = nome[0]\n",
    "\n",
    "print(\"Nome:\" + nome)\n",
    "print(\"Sobrenome:\" + sobrenome)\n",
    "\n",
    "print(min(nome, sobrenome) + \" antecede \" + max(nome, sobrenome))\n",
    "\n",
    "print(\"Tamanho do nome:\", len(nome))\n",
    "print(\"Tamanho do sobrenome:\", len(sobrenome))\n",
    "\n",
    "palindromo = nome.lower()\n",
    "if(palindromo == palindromo[::-1]):\n",
    "    print(nome, \"é palídromo\")\n",
    "else:\n",
    "    print(nome, \"não é palíndromo\")"
   ]
  },
  {
   "cell_type": "markdown",
   "id": "e382fb3c",
   "metadata": {},
   "source": [
    "### Exercício 5: Manipulação de variáveis de ponto flutuante, explorando as características e os limites"
   ]
  },
  {
   "cell_type": "markdown",
   "id": "6b73bbe2",
   "metadata": {},
   "source": [
    "#### Operadores aritméticos"
   ]
  },
  {
   "cell_type": "code",
   "execution_count": 42,
   "id": "93fa681c",
   "metadata": {},
   "outputs": [
    {
     "name": "stdout",
     "output_type": "stream",
     "text": [
      "Soma: 8.0\n",
      "Subtracao: 1.4000000000000004\n",
      "Multiplicação: 8.028\n",
      "Divisão: 2.3111111111111113\n",
      "Divisão Inteira: 2.0\n",
      "Resto da Divisão: 3.1999999999999997\n",
      "Potência: 20.948880953250377\n"
     ]
    }
   ],
   "source": [
    "soma = 2.7 + 5.3\n",
    "subtracao = 5.2 - 3.8\n",
    "multiplicacao = 2.23 * 3.6\n",
    "divisao = 5.2 / 2.25\n",
    "divisao_inteira = 5.18 // 2.2\n",
    "resto_divisao = 7.1 % 3.9\n",
    "potencia = 2.5 ** 3.32\n",
    "print(\"Soma:\", soma)\n",
    "print(\"Subtracao:\", subtracao)\n",
    "print(\"Multiplicação:\", multiplicacao)\n",
    "print(\"Divisão:\", divisao)\n",
    "print(\"Divisão Inteira:\", divisao_inteira)\n",
    "print(\"Resto da Divisão:\", resto_divisao)\n",
    "print(\"Potência:\", potencia)"
   ]
  },
  {
   "cell_type": "markdown",
   "id": "a5da15af",
   "metadata": {},
   "source": [
    "#### Operadores aritméticos compostos"
   ]
  },
  {
   "cell_type": "code",
   "execution_count": 48,
   "id": "208746f3",
   "metadata": {},
   "outputs": [
    {
     "name": "stdout",
     "output_type": "stream",
     "text": [
      "Soma Composta: 6.0\n",
      "Subtracao Composta: -1.5\n",
      "Multiplicação Composta: 5.75\n",
      "Divisão Composta: 0.625\n",
      "Divisão Inteira Composta: 0.0\n",
      "Resto da Divisão Composta: 2.5\n"
     ]
    }
   ],
   "source": [
    "soma_composta = subtracao_composta = multiplicacao_composta = divisao_composta = divisao_inteira_composta = resto_divisao_composta = potencia_composta = 2.5\n",
    "\n",
    "soma_composta += 3.5\n",
    "subtracao_composta -= 4\n",
    "multiplicacao_composta *= 2.3\n",
    "divisao_composta /= 4\n",
    "divisao_inteira_composta //= 5\n",
    "resto_divisao_composta %= 3\n",
    "print(\"Soma Composta:\", soma_composta)\n",
    "print(\"Subtracao Composta:\", subtracao_composta)\n",
    "print(\"Multiplicação Composta:\", multiplicacao_composta)\n",
    "print(\"Divisão Composta:\", divisao_composta)\n",
    "print(\"Divisão Inteira Composta:\", divisao_inteira_composta)\n",
    "print(\"Resto da Divisão Composta:\", resto_divisao_composta)"
   ]
  },
  {
   "cell_type": "markdown",
   "id": "85012d8d",
   "metadata": {},
   "source": [
    "#### Maior e menor potência de 2"
   ]
  },
  {
   "cell_type": "code",
   "execution_count": 49,
   "id": "6f53cf63",
   "metadata": {},
   "outputs": [
    {
     "name": "stdout",
     "output_type": "stream",
     "text": [
      "Maior potência de 2 que pode ser representada: 8.98846567431158e+307\n",
      "Menor potência de 2 que pode ser representada: 5e-324\n"
     ]
    }
   ],
   "source": [
    "import sys\n",
    "\n",
    "print(\"Maior potência de 2 que pode ser representada:\", 2.0 ** (sys.float_info.max_exp - 1))\n",
    "print(\"Menor potência de 2 que pode ser representada:\", 2.0 ** (sys.float_info.min_exp - sys.float_info.mant_dig))"
   ]
  },
  {
   "cell_type": "markdown",
   "id": "14e10b39",
   "metadata": {},
   "source": [
    "#### Variáveis de ponto flutuante são imutáveis\n",
    "\n",
    "Assim como na variáveis de números inteiros, as variáveis de ponto flutuante tem o mesmo comportamento imutável, alterando apenas a referência que a variável aponta na memória."
   ]
  },
  {
   "cell_type": "code",
   "execution_count": 53,
   "id": "44f1391e",
   "metadata": {},
   "outputs": [
    {
     "name": "stdout",
     "output_type": "stream",
     "text": [
      "Valor de num1: 25.5\n",
      "Valor de num2 antes de alterar num2: 25.5\n",
      "Valor de num1: 32.2\n",
      "Valor de num2 depois de alterar num2: 25.5\n"
     ]
    }
   ],
   "source": [
    "num1 = 25.5\n",
    "num2 = num1\n",
    "print(\"Valor de num1:\", num1)\n",
    "print(\"Valor de num2 antes de alterar num2:\", num2)\n",
    "\n",
    "num1 = 32.2\n",
    "print(\"Valor de num1:\", num1)\n",
    "print(\"Valor de num2 depois de alterar num2:\", num2)"
   ]
  },
  {
   "cell_type": "markdown",
   "id": "5878661c",
   "metadata": {},
   "source": [
    "#### Métodos disponíveis para variáveis de ponto flutuante\n",
    "\n",
    "Executando o código abaixo, temos como resultado todos os métodos disponíveis para variáveis inteiras no Python:"
   ]
  },
  {
   "cell_type": "code",
   "execution_count": 52,
   "id": "edec8b23",
   "metadata": {},
   "outputs": [
    {
     "name": "stdout",
     "output_type": "stream",
     "text": [
      "['__abs__', '__add__', '__bool__', '__ceil__', '__class__', '__delattr__', '__dir__', '__divmod__', '__doc__', '__eq__', '__float__', '__floor__', '__floordiv__', '__format__', '__ge__', '__getattribute__', '__getformat__', '__getnewargs__', '__getstate__', '__gt__', '__hash__', '__init__', '__init_subclass__', '__int__', '__le__', '__lt__', '__mod__', '__mul__', '__ne__', '__neg__', '__new__', '__pos__', '__pow__', '__radd__', '__rdivmod__', '__reduce__', '__reduce_ex__', '__repr__', '__rfloordiv__', '__rmod__', '__rmul__', '__round__', '__rpow__', '__rsub__', '__rtruediv__', '__setattr__', '__sizeof__', '__str__', '__sub__', '__subclasshook__', '__truediv__', '__trunc__', 'as_integer_ratio', 'conjugate', 'fromhex', 'hex', 'imag', 'is_integer', 'real']\n"
     ]
    }
   ],
   "source": [
    "numero = 2.0\n",
    "metodos_disponiveis = dir(numero)\n",
    "print(metodos_disponiveis)"
   ]
  },
  {
   "cell_type": "markdown",
   "id": "07e515dc",
   "metadata": {},
   "source": [
    "### Exercício 6: Manipulando listas\n",
    "\n",
    "#### Parte 1"
   ]
  },
  {
   "cell_type": "code",
   "execution_count": 2,
   "id": "99504297",
   "metadata": {},
   "outputs": [
    {
     "name": "stdout",
     "output_type": "stream",
     "text": [
      "[9, 8, 7, 6, 5, 4, 3, 2, 1]\n",
      "[9]\n",
      "[1, 2, 3, 4, 5, 6, 7, 8]\n",
      "[9, 7, 5, 3, 1]\n",
      "[8, 9]\n",
      "[1, 2, 3, 4, 5, 6, 7]\n"
     ]
    }
   ],
   "source": [
    "L = [ 1, 2, 3, 4, 5, 6, 7, 8, 9 ]\n",
    "print(L[::-1])\n",
    "print(L[-1::])\n",
    "print(L[:-1:])\n",
    "print(L[::-2])\n",
    "print(L[-2::])\n",
    "print(L[:-2:])"
   ]
  },
  {
   "cell_type": "markdown",
   "id": "b8d824b9",
   "metadata": {},
   "source": [
    "#### Parte 2"
   ]
  },
  {
   "cell_type": "code",
   "execution_count": 30,
   "id": "5b906407",
   "metadata": {},
   "outputs": [
    {
     "name": "stdout",
     "output_type": "stream",
     "text": [
      "Digite seu ano de nascimento: 1996\n",
      "O seu signo chinês é: Rato\n"
     ]
    }
   ],
   "source": [
    "sign = ['Macaco', 'Galo', 'Cão', 'Porco', 'Rato', 'Boi', \n",
    "        'Tigre', 'Coelho', 'Dragão','Serpente', 'Cavalo', 'Carneiro']\n",
    "\n",
    "n = input(\"Digite seu ano de nascimento: \")\n",
    "n = int(n)\n",
    "\n",
    "print(\"O seu signo chinês é: \" + sign[n % 12])"
   ]
  }
 ],
 "metadata": {
  "kernelspec": {
   "display_name": "Python 3 (ipykernel)",
   "language": "python",
   "name": "python3"
  },
  "language_info": {
   "codemirror_mode": {
    "name": "ipython",
    "version": 3
   },
   "file_extension": ".py",
   "mimetype": "text/x-python",
   "name": "python",
   "nbconvert_exporter": "python",
   "pygments_lexer": "ipython3",
   "version": "3.11.5"
  }
 },
 "nbformat": 4,
 "nbformat_minor": 5
}
