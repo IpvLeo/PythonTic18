{
 "cells": [
  {
   "cell_type": "markdown",
   "metadata": {},
   "source": [
    "\n",
    "## Respostas da prática PP-P001\n",
    "\n",
    "Exercício 2:\n",
    "\n",
    "A linguagem Python disponibiliza uma série desses operadores para os desenvolvedores utilizarem, porém irei só relatar sobre operadores aritméticos e compostos.\n",
    "\n",
    "\n",
    "Operadores Aritméticos\n",
    "\n",
    "Esses operadores são utilizados para criarmos expressões matemáticas comuns, como soma, subtração, multiplicação e divisão.\n",
    "\n",
    "Veja quais estão disponíveis no Python:\n",
    "\n",
    "| Operador | Nome               | Função                                                            |\n",
    "|----------|--------------------|-------------------------------------------------------------------|\n",
    "| +        | Adição             | Realiza a soma de ambos operandos.                                |\n",
    "| -        | Subtração          | Realiza a subtração de ambos operandos.                           |\n",
    "| *        | Multiplicação      | Realiza a multiplicação de ambos operandos.                       |\n",
    "| /        | Divisão            | Realiza a divisão de ambos operandos.                             |\n",
    "| //       | Divisão inteira    | Realiza a divisão entre operandos e retorna a parte inteira.      |\n",
    "| %        | Módulo             | Retorna o resto da divisão de ambos operandos.                    |\n",
    "| **       | Exponenciação      | Retorna o resultado da elevação da potência pelo outro.           |\n",
    "\n",
    "\n",
    "Veja agora a utilização de cada operador aritmético mencionado acima:"
   ]
  },
  {
   "cell_type": "code",
   "execution_count": null,
   "metadata": {},
   "outputs": [
    {
     "name": "stdout",
     "output_type": "stream",
     "text": [
      "8\n",
      "2\n",
      "15\n",
      "1.6666666666666667\n",
      "1\n",
      "2\n",
      "125\n"
     ]
    }
   ],
   "source": [
    "quatro = 5\n",
    "dois = 3\n",
    "\n",
    "soma = quatro + dois\n",
    "print(soma)  # Resultado: 6\n",
    "\n",
    "subtracao = quatro - dois\n",
    "print(subtracao)  # Resultado: 2\n",
    "\n",
    "multiplicacao = quatro * dois\n",
    "print(multiplicacao)  # Resultado: 8\n",
    "\n",
    "divisao = quatro / dois\n",
    "print(divisao)  # Resultado: 2.0\n",
    "\n",
    "divisao_interna = quatro // dois\n",
    "print(divisao_interna)  # Resultado: 2\n",
    "\n",
    "modulo = quatro % dois\n",
    "print(modulo)  # Resultado: 0\n",
    "\n",
    "exponenciacao = quatro ** dois\n",
    "print(exponenciacao)  # Resultado: 16"
   ]
  },
  {
   "cell_type": "markdown",
   "metadata": {},
   "source": [
    "Operadores de Comparação\n",
    "\n",
    "Como o nome já diz, esses Operadores são usados para comparar dois valores:\n",
    "\n",
    "| Operador | Nome              | Função                                            |\n",
    "|----------|-------------------|---------------------------------------------------|\n",
    "| ==       | Igual a           | Verifica se um valor é igual ao outro.            |\n",
    "| !=       | Diferente de      | Verifica se um valor é diferente ao outro.        |\n",
    "| >        | Maior que         | Verifica se um valor é maior que outro.           |\n",
    "| >=       | Maior ou igual    | Verifica se um valor é maior ou igual ao outro.   |\n",
    "| <        | Menor que         | Verifica se um valor é menor que outro.           |\n",
    "| <=       | Menor ou igual    | Verifica se um valor é menor ou igual ao outro.   |\n",
    "\n",
    "\n",
    "Log abaixo tem exemplos da utilização de cada operador de comparação mencionado acima.\n",
    "\n",
    "Para facilitar o entendimento, todas as operações estão retornando um valor igual a True, para que você entenda como cada condição é aceita:"
   ]
  },
  {
   "cell_type": "code",
   "execution_count": null,
   "metadata": {},
   "outputs": [
    {
     "name": "stdout",
     "output_type": "stream",
     "text": [
      "Os valores são iguais\n",
      "O valor não é igual a 7\n",
      "O valor da variável é maior de 2\n",
      "O valor da variável é maior ou igual a 5\n",
      "O valor da variável é menor que 7\n",
      "O valor da variável é menor ou igual a 5\n"
     ]
    }
   ],
   "source": [
    "var = 5\n",
    "\n",
    "if var == 5:\n",
    "    print('Os valores são iguais')\n",
    "\n",
    "if var != 7:\n",
    "    print('O valor não é igual a 7')\n",
    "\n",
    "if var > 2:\n",
    "    print('O valor da variável é maior de 2')\n",
    "\n",
    "if var >= 5:\n",
    "    print('O valor da variável é maior ou igual a 5')\n",
    "\n",
    "if var < 7:\n",
    "    print('O valor da variável é menor que 7')\n",
    "\n",
    "if var <= 5:\n",
    "    print('O valor da variável é menor ou igual a 5')"
   ]
  },
  {
   "cell_type": "markdown",
   "metadata": {},
   "source": [
    "As diferenças notáveis que python tem em relação a C++ são essas:\n",
    "\n",
    "    - Dinamicidade de Tipos\n",
    "    - Sem Limite de Tamanho\n",
    "    - Operações de Divisão\n",
    "    - Operadores de Comparação \n",
    "    - Operador de Potência\n",
    "    - Operador de Módulo \n",
    "\n",
    "Obs.: Python é projetado para ser mais simples e fácil de ler, enquanto C/C++ oferecem mais controle sobre os detalhes de implementação e desempenho."
   ]
  },
  {
   "cell_type": "markdown",
   "metadata": {},
   "source": [
    "Um exemplo interessante entre Python e C++ é o cálculo do fatorial de 30 em Python e comparar o resultado com o maior valor inteiro que pode ser representado em C/C++. É bom ressaltar que Python possui a biblioteca math que fornece uma função para calcular fatoriais, enquanto em C/C++, podemos usar um tipo de dados de tamanho adequado para armazenar o resultado.\n",
    "\n",
    "Logo abaixo tem o código em Python e em C++."
   ]
  },
  {
   "cell_type": "code",
   "execution_count": null,
   "metadata": {},
   "outputs": [
    {
     "name": "stdout",
     "output_type": "stream",
     "text": [
      "Fatorial de 30 em Python: 265252859812191058636308480000000\n"
     ]
    }
   ],
   "source": [
    "import math\n",
    "\n",
    "# Calcular fatorial de 30 em Python\n",
    "fatorial_30 = math.factorial(30)\n",
    "print(\"Fatorial de 30 em Python:\", fatorial_30)\n"
   ]
  },
  {
   "cell_type": "code",
   "execution_count": null,
   "metadata": {},
   "outputs": [
    {
     "ename": "SyntaxError",
     "evalue": "invalid syntax (3932625755.py, line 4)",
     "output_type": "error",
     "traceback": [
      "\u001b[0;36m  Cell \u001b[0;32mIn[105], line 4\u001b[0;36m\u001b[0m\n\u001b[0;31m    int main() {\u001b[0m\n\u001b[0m        ^\u001b[0m\n\u001b[0;31mSyntaxError\u001b[0m\u001b[0;31m:\u001b[0m invalid syntax\n"
     ]
    }
   ],
   "source": [
    "#include <iostream>\n",
    "#include <cstdint>\n",
    "\n",
    "int main() {\n",
    "    // Calcular fatorial de 30 em C++\n",
    "    uint64_t fatorial_30 = 1;  // Usando uint64_t para representar grandes inteiros\n",
    "    for (int i = 2; i <= 30; ++i) {\n",
    "        fatorial_30 *= i;\n",
    "    }\n",
    "\n",
    "    std::cout << \"Fatorial de 30 em C++: \" << fatorial_30 << std::endl;\n",
    "\n",
    "    // Maior valor inteiro representável em C++\n",
    "    std::cout << \"Maior valor inteiro em C++: \" << UINT64_MAX << std::endl;\n",
    "\n",
    "    return 0;\n",
    "}\n"
   ]
  },
  {
   "cell_type": "markdown",
   "metadata": {},
   "source": [
    "Output\n",
    "\n",
    "Fatorial de 30 em C++: 9682165104862298112\n",
    "Maior valor inteiro em C++: 18446744073709551615"
   ]
  },
  {
   "cell_type": "markdown",
   "metadata": {},
   "source": [
    "Obs.: É notório que o cálculo do fatorial de 30 é um número grande e excede o valor representável por muitos tipos de dados inteiros em linguagens, e como exemplo C/C++. Portanto, ao usar Python não foi preciso se preocupar com os limites de tamanho dos inteiros, pois a linguagem gerencia automaticamente o tamanho necessário para armazenar números grandes. Já em C/C++, é necessário escolher um tipo de dados apropriado para lidar com números grandes."
   ]
  },
  {
   "cell_type": "markdown",
   "metadata": {},
   "source": [
    "| Variáveis Imutáveis\n",
    "\n",
    "As variáveis numéricas são imutáveis devido à atribuição de um valor a mesma que não pode alterar diretamente. Em geral, a imutabilidade de variáveis numéricas em Python traz benefícios em termos de segurança e previsibilidade, embora haja situações em que a mutabilidade seja desejável.\n",
    "\n",
    "Logo abaixo possui exemplos para ilustrar as implicações dessa imutabilidade."
   ]
  },
  {
   "cell_type": "code",
   "execution_count": null,
   "metadata": {},
   "outputs": [
    {
     "name": "stdout",
     "output_type": "stream",
     "text": [
      "Antes da alteração:\n",
      "num1: 5\n",
      "num2: 5\n",
      "\n",
      "Depois da alteração:\n",
      "num1: 10\n",
      "num2: 5\n"
     ]
    }
   ],
   "source": [
    "# Imutabilidade de inteiros\n",
    "num1 = 5\n",
    "num2 = num1  # Cria uma nova referência para o mesmo objeto\n",
    "\n",
    "print(\"Antes da alteração:\")\n",
    "print(\"num1:\", num1)\n",
    "print(\"num2:\", num2)\n",
    "\n",
    "# Tentativa de alterar o valor de num1\n",
    "num1 = 10  # Cria uma nova instância de int\n",
    "\n",
    "print(\"\\nDepois da alteração:\")\n",
    "print(\"num1:\", num1)  # num1 foi alterado\n",
    "print(\"num2:\", num2)  # num2 permanece o mesmo"
   ]
  },
  {
   "cell_type": "code",
   "execution_count": null,
   "metadata": {},
   "outputs": [
    {
     "name": "stdout",
     "output_type": "stream",
     "text": [
      "Antes da alteração:\n",
      "pi: 3.14159\n",
      "\n",
      "Depois da alteração:\n",
      "pi: 3.14\n"
     ]
    }
   ],
   "source": [
    "# Imutabilidade de floats\n",
    "pi = 3.14159\n",
    "\n",
    "print(\"Antes da alteração:\")\n",
    "print(\"pi:\", pi)\n",
    "\n",
    "# Tentativa de alterar o valor de pi\n",
    "# Isso cria uma nova instância de float\n",
    "pi = 3.14\n",
    "\n",
    "print(\"\\nDepois da alteração:\")\n",
    "print(\"pi:\", pi)  # pi foi alterado\n"
   ]
  },
  {
   "cell_type": "markdown",
   "metadata": {},
   "source": [
    "| Métodos disponíveis para as variáveis inteiras são:\n",
    "\n",
    "        - Operadores Aritméticos\n",
    "        - Operadores Atribuídos\n",
    "        - Operadores Bitwise\n",
    "        - Funções Built-in\n",
    "        - Métodos Específicos do Tipo int\n",
    "\n"
   ]
  },
  {
   "cell_type": "markdown",
   "metadata": {},
   "source": [
    "Exercício 3:"
   ]
  },
  {
   "cell_type": "markdown",
   "metadata": {},
   "source": [
    " - Imprima na tela, utilizando print, cada um dos caracteres numéricos e seu correspondente código numérico. Pesquise como modificar o comportamento do print para imprimir como caractere e comonúmero.\n",
    "    \n",
    "        Exemplo:‘0’ - 48\n",
    "        ‘1’ - 49\n",
    "        ...\n",
    "        ‘9’ - 57"
   ]
  },
  {
   "cell_type": "code",
   "execution_count": null,
   "metadata": {},
   "outputs": [
    {
     "name": "stdout",
     "output_type": "stream",
     "text": [
      "'0' - 48 - 0\n",
      "'1' - 49 - 1\n",
      "'2' - 50 - 2\n",
      "'3' - 51 - 3\n",
      "'4' - 52 - 4\n",
      "'5' - 53 - 5\n",
      "'6' - 54 - 6\n",
      "'7' - 55 - 7\n",
      "'8' - 56 - 8\n",
      "'9' - 57 - 9\n"
     ]
    }
   ],
   "source": [
    "\n",
    "for i in range(10):\n",
    "    char = str(i)\n",
    "    code = ord(char)\n",
    "    print(f\"'{char}' - {code} - {chr(code)}\")\n"
   ]
  },
  {
   "cell_type": "markdown",
   "metadata": {},
   "source": [
    "- Modifique o exercício anterior para que a saída imprima também o código numérico em octal e em hexadecimal."
   ]
  },
  {
   "cell_type": "code",
   "execution_count": null,
   "metadata": {},
   "outputs": [
    {
     "name": "stdout",
     "output_type": "stream",
     "text": [
      "'0' - Decimal: 48 - Octal: 0o60 - Hexadecimal: 0x30\n",
      "'1' - Decimal: 49 - Octal: 0o61 - Hexadecimal: 0x31\n",
      "'2' - Decimal: 50 - Octal: 0o62 - Hexadecimal: 0x32\n",
      "'3' - Decimal: 51 - Octal: 0o63 - Hexadecimal: 0x33\n",
      "'4' - Decimal: 52 - Octal: 0o64 - Hexadecimal: 0x34\n",
      "'5' - Decimal: 53 - Octal: 0o65 - Hexadecimal: 0x35\n",
      "'6' - Decimal: 54 - Octal: 0o66 - Hexadecimal: 0x36\n",
      "'7' - Decimal: 55 - Octal: 0o67 - Hexadecimal: 0x37\n",
      "'8' - Decimal: 56 - Octal: 0o70 - Hexadecimal: 0x38\n",
      "'9' - Decimal: 57 - Octal: 0o71 - Hexadecimal: 0x39\n"
     ]
    }
   ],
   "source": [
    "\n",
    "for i in range(10):\n",
    "    char = str(i)\n",
    "    code = ord(char)\n",
    "    print(f\"'{char}' - Decimal: {code} - Octal: {oct(code)} - Hexadecimal: {hex(code)}\")\n"
   ]
  },
  {
   "cell_type": "markdown",
   "metadata": {},
   "source": [
    "- Acrescente ao código do exercício anterior a possibilidade de ler um caractere qualquer e imprima no mesmo formato do inciso anterior. Pesquise como ler um valor da entrada padrão."
   ]
  },
  {
   "cell_type": "code",
   "execution_count": null,
   "metadata": {},
   "outputs": [],
   "source": [
    "carc = input(\"Digite um caractere: \")\n",
    "cod = ord(carc)\n",
    "print(f\"'{carc}' - Decimal: {cod} - Octal: {oct(cod)} - Hexadecimal: {hex(cod)}\")"
   ]
  },
  {
   "cell_type": "markdown",
   "metadata": {},
   "source": [
    "OUTPUT\n",
    "\n",
    "Digite um caractere: D\n",
    "'D' - Decimal: 68 - Octal: 0o104 - Hexadecimal: 0x44"
   ]
  },
  {
   "cell_type": "markdown",
   "metadata": {},
   "source": [
    "- Pesquise como trabalha Python os caracteres especiais, ‘ç’ e ‘ã’ por exemplo. Acrescente no código do exercício anterior um exemplo que demonstra como usar este recurso."
   ]
  },
  {
   "cell_type": "markdown",
   "metadata": {},
   "source": [
    "Os caracteres especiais na linguagem Python, em especial 'ç' e 'ã', são tratados como caracteres Unicode. A Unicode é um padrão de codificação de caracteres que atribui um número único para cada caractere."
   ]
  },
  {
   "cell_type": "code",
   "execution_count": null,
   "metadata": {},
   "outputs": [],
   "source": [
    "\n",
    "user_input = input(\"Digite um caractere: \")\n",
    "code = ord(user_input)\n",
    "print(f\"'{user_input}' - Decimal: {code} - Octal: {oct(code)} - Hexadecimal: {hex(code)}\")\n",
    "\n",
    "special_char1 = 'ç'\n",
    "special_char2 = 'ã'\n",
    "special_code1 = ord(special_char1)\n",
    "special_code2 = ord(special_char2)\n",
    "\n",
    "print(f\"'{special_char1}' - Decimal: {special_code1} - Octal: {oct(special_code1)} - Hexadecimal: {hex(special_code1)}\")\n",
    "print(f\"'{special_char2}' - Decimal: {special_code2} - Octal: {oct(special_code2)} - Hexadecimal: {hex(special_code2)}\")\n"
   ]
  },
  {
   "cell_type": "markdown",
   "metadata": {},
   "source": [
    "OUTPUT\n",
    "\n",
    "Digite um caractere: K\n",
    "'K' - Decimal: 75 - Octal: 0o113 - Hexadecimal: 0x4b\n",
    "\n",
    "'ç' - Decimal: 231 - Octal: 0o347 - Hexadecimal: 0xe7\n",
    "\n",
    "'ã' - Decimal: 227 - Octal: 0o343 - Hexadecimal: 0xe3\n",
    "\n",
    "\n",
    "\n",
    "\n",
    "Obs.: O código numérico, representação octal e hexadecimal destes caracteres especiais também são impressos."
   ]
  },
  {
   "cell_type": "markdown",
   "metadata": {},
   "source": [
    "Exercício 4:"
   ]
  },
  {
   "cell_type": "markdown",
   "metadata": {},
   "source": [
    "- Declare uma variável nome atribuindo a ela seu nome completo;"
   ]
  },
  {
   "cell_type": "code",
   "execution_count": null,
   "metadata": {},
   "outputs": [
    {
     "name": "stdout",
     "output_type": "stream",
     "text": [
      "Primeira letra: D\n",
      "Última letra: o\n",
      "Primeiro nome: Daniel\n",
      "Sobrenome:  Coutinho\n"
     ]
    }
   ],
   "source": [
    "meuNome = \"Daniel Coutinho\"\n",
    "\n",
    "primeira_letra = meuNome[0]\n",
    "ultima_letra = meuNome[-1]\n",
    "\n",
    "print(f\"Primeira letra: {primeira_letra}\")\n",
    "print(f\"Última letra: {ultima_letra}\")\n",
    "\n",
    "primeiro_nome = meuNome[:6]\n",
    "sobrenome = meuNome[6:]\n",
    "\n",
    "print(f\"Primeiro nome: {primeiro_nome}\")\n",
    "print(f\"Sobrenome: {sobrenome}\")\n"
   ]
  },
  {
   "cell_type": "markdown",
   "metadata": {},
   "source": [
    "- Pesquise por funcionalidades já implementadas nas strings e separe em duas variáveis novas seu nome do seu sobrenome;"
   ]
  },
  {
   "cell_type": "code",
   "execution_count": null,
   "metadata": {},
   "outputs": [
    {
     "name": "stdout",
     "output_type": "stream",
     "text": [
      "Nome: Daniel\n",
      "Sobrenome: Coutinho\n"
     ]
    }
   ],
   "source": [
    "meuNome = \"Daniel Coutinho Neto\"\n",
    "\n",
    "partes_nome = meuNome.split()\n",
    "\n",
    "primeiro_nome = partes_nome[0]\n",
    "sobrenome = partes_nome[1] if len(partes_nome) > 1 else \"\"\n",
    "\n",
    "print(f\"Nome: {primeiro_nome}\")\n",
    "print(f\"Sobrenome: {sobrenome}\")\n"
   ]
  },
  {
   "cell_type": "markdown",
   "metadata": {},
   "source": [
    "- Verifique qual das duas novas variáveis antecede a outra na ordem alfabética;"
   ]
  },
  {
   "cell_type": "code",
   "execution_count": null,
   "metadata": {},
   "outputs": [
    {
     "name": "stdout",
     "output_type": "stream",
     "text": [
      " Coutinho antecede Daniel na ordem alfabética.\n"
     ]
    }
   ],
   "source": [
    "if primeiro_nome < sobrenome:\n",
    "    print(f\"{primeiro_nome} antecede {sobrenome} na ordem alfabética.\")\n",
    "elif primeiro_nome > sobrenome:\n",
    "    print(f\"{sobrenome} antecede {primeiro_nome} na ordem alfabética.\")\n",
    "else:\n",
    "    print(\"As duas variáveis são iguais na ordem alfabética.\")\n"
   ]
  },
  {
   "cell_type": "markdown",
   "metadata": {},
   "source": [
    "- Verifique a quantidade de caracteres de cada uma das novas variáveis;"
   ]
  },
  {
   "cell_type": "code",
   "execution_count": null,
   "metadata": {},
   "outputs": [
    {
     "name": "stdout",
     "output_type": "stream",
     "text": [
      "Quantidade de caracteres em Daniel: 6\n",
      "Quantidade de caracteres em  Coutinho: 9\n"
     ]
    }
   ],
   "source": [
    "tamanho_primeiro_nome = len(primeiro_nome)\n",
    "tamanho_sobrenome = len(sobrenome)\n",
    "\n",
    "print(f\"Quantidade de caracteres em {primeiro_nome}: {tamanho_primeiro_nome}\")\n",
    "print(f\"Quantidade de caracteres em {sobrenome}: {tamanho_sobrenome}\")"
   ]
  },
  {
   "cell_type": "markdown",
   "metadata": {},
   "source": [
    "- Verifique se seu nome é uma palíndromo;"
   ]
  },
  {
   "cell_type": "code",
   "execution_count": null,
   "metadata": {},
   "outputs": [
    {
     "name": "stdout",
     "output_type": "stream",
     "text": [
      "Daniel Coutinho não é um palíndromo.\n"
     ]
    }
   ],
   "source": [
    "def is_palindrome(s):\n",
    "    s = s.replace(\" \", \"\").lower()\n",
    "    return s == s[::-1]\n",
    "\n",
    "if is_palindrome(meuNome):\n",
    "    print(f\"{meuNome} é um palíndromo.\")\n",
    "else:\n",
    "    print(f\"{meuNome} não é um palíndromo.\")\n"
   ]
  },
  {
   "cell_type": "markdown",
   "metadata": {},
   "source": [
    "Exercício 5\n",
    "\n",
    "Operadores Aritméticos\n",
    "    Para o tipo float e int:"
   ]
  },
  {
   "cell_type": "code",
   "execution_count": null,
   "metadata": {},
   "outputs": [
    {
     "name": "stdout",
     "output_type": "stream",
     "text": [
      "Exemplo com números de ponto flutuante\n",
      "\n",
      "Soma em float: 14.5\n",
      "Subtração em float: -1.5\n",
      "Multiplicação em float: 52.0\n",
      "Divisão em float: 0.8125\n",
      "\n",
      "Exemplo com números inteiros\n",
      "\n",
      "Soma (int): 7\n",
      "Subtração (int): 3\n",
      "Multiplicação (int): 10\n",
      "Divisão (int): 2.5\n"
     ]
    }
   ],
   "source": [
    "print(\"Exemplo com números de ponto flutuante\")\n",
    "print()\n",
    "\n",
    "a = 6.5\n",
    "b = 8.0\n",
    "\n",
    "# Adição\n",
    "soma = a + b\n",
    "print(f\"Soma em float: {soma}\")\n",
    "\n",
    "# Subtração\n",
    "subtracao = a - b\n",
    "print(f\"Subtração em float: {subtracao}\")\n",
    "\n",
    "# Multiplicação\n",
    "multiplicacao = a * b\n",
    "print(f\"Multiplicação em float: {multiplicacao}\")\n",
    "\n",
    "# Divisão\n",
    "divisao = a / b\n",
    "print(f\"Divisão em float: {divisao}\")\n",
    "\n",
    "print()\n",
    "\n",
    "print(\"Exemplo com números inteiros\")\n",
    "print()\n",
    "\n",
    "x = 5\n",
    "y = 2\n",
    "\n",
    "# Adição\n",
    "soma_int = x + y\n",
    "print(f\"Soma (int): {soma_int}\")\n",
    "\n",
    "# Subtração\n",
    "subtracao_int = x - y\n",
    "print(f\"Subtração (int): {subtracao_int}\")\n",
    "\n",
    "# Multiplicação\n",
    "multiplicacao_int = x * y\n",
    "print(f\"Multiplicação (int): {multiplicacao_int}\")\n",
    "\n",
    "# Divisão\n",
    "divisao_int = x / y  # O resultado será um float, mesmo se a divisão for exata\n",
    "print(f\"Divisão (int): {divisao_int}\")\n",
    "\n"
   ]
  },
  {
   "cell_type": "markdown",
   "metadata": {},
   "source": [
    "Operadores Aritméticos Compostos\n",
    "Para o tipo float e int:"
   ]
  },
  {
   "cell_type": "code",
   "execution_count": null,
   "metadata": {},
   "outputs": [
    {
     "name": "stdout",
     "output_type": "stream",
     "text": [
      "Exemplo com números inteiros\n",
      "\n",
      "Operador composto de adição: 5.0\n",
      "Operador composto de subtração: 3.0\n",
      "Operador composto de multiplicação: 9.0\n",
      "Operador composto de divisão: 4.5\n",
      "\n",
      "Exemplo com números inteiros\n",
      "\n",
      "Operador composto de adição (int): 10\n",
      "Operador composto de subtração (int): 7\n",
      "Operador composto de multiplicação (int): 28\n",
      "Operador composto de divisão inteira (int): 14\n"
     ]
    }
   ],
   "source": [
    "print(\"Exemplo com números inteiros\")\n",
    "print()\n",
    "\n",
    "c = 4.0\n",
    "\n",
    "# Operadores aritméticos compostos\n",
    "c += 1  # c = c + 1\n",
    "print(f\"Operador composto de adição: {c}\")\n",
    "\n",
    "c -= 2  # c = c - 2\n",
    "print(f\"Operador composto de subtração: {c}\")\n",
    "\n",
    "c *= 3  # c = c * 3\n",
    "print(f\"Operador composto de multiplicação: {c}\")\n",
    "\n",
    "c /= 2  # c = c / 2\n",
    "print(f\"Operador composto de divisão: {c}\")\n",
    "print()\n",
    "\n",
    "\n",
    "print(\"Exemplo com números inteiros\")\n",
    "print()\n",
    "\n",
    "z = 8\n",
    "\n",
    "# Operadores aritméticos compostos\n",
    "z += 2  # z = z + 2\n",
    "print(f\"Operador composto de adição (int): {z}\")\n",
    "\n",
    "z -= 3  # z = z - 3\n",
    "print(f\"Operador composto de subtração (int): {z}\")\n",
    "\n",
    "z *= 4  # z = z * 4\n",
    "print(f\"Operador composto de multiplicação (int): {z}\")\n",
    "\n",
    "z //= 2  # z = z // 2 (divisão inteira)\n",
    "print(f\"Operador composto de divisão inteira (int): {z}\")\n"
   ]
  },
  {
   "cell_type": "markdown",
   "metadata": {},
   "source": [
    "- Utilizando o operador de exponenciação mostre qual a maior e a menor potência de 2 que pode ser representada com variáveis de ponto flutuante."
   ]
  },
  {
   "cell_type": "code",
   "execution_count": 1,
   "metadata": {},
   "outputs": [
    {
     "name": "stdout",
     "output_type": "stream",
     "text": [
      "A menor potência de 2 representável como float: 2 ** -1021 = 4.450147717014403e-308\n",
      "A maior potência de 2 representável como float: (2 - sys.float_info.epsilon) ** 1024 = 1.7976931348621115e+308\n"
     ]
    }
   ],
   "source": [
    "import sys\n",
    "\n",
    "menor_potencia = sys.float_info.min_exp\n",
    "maior_potencia = sys.float_info.max_exp\n",
    "\n",
    "menor_valor = 2.0 ** menor_potencia\n",
    "maior_valor = (2.0 - sys.float_info.epsilon) ** maior_potencia  # Adjusted for precision\n",
    "\n",
    "print(f\"A menor potência de 2 representável como float: 2 ** {menor_potencia} = {menor_valor}\")\n",
    "print(f\"A maior potência de 2 representável como float: (2 - sys.float_info.epsilon) ** {maior_potencia} = {maior_valor}\")\n"
   ]
  },
  {
   "cell_type": "markdown",
   "metadata": {},
   "source": [
    "- As variáveis numéricas são imutáveis. Demonstre com exemplos asimplicações desta afirmação;\n",
    "\n",
    "Obs.: As variáveis numéricas são imutáveis em Python devido a uma atribuição de um valor a uma variável numérica, ao qual esse valor não pode ser alterado. Em vez disso, se você deseja modificar o valor, você cria uma nova variável com o novo valor. Vamos demonstrar isso com alguns exemplos:"
   ]
  },
  {
   "cell_type": "code",
   "execution_count": null,
   "metadata": {},
   "outputs": [
    {
     "name": "stdout",
     "output_type": "stream",
     "text": [
      "Exemplo com números inteiros\n",
      "\n",
      "Valor original: 15\n",
      "Novo valor: 20\n"
     ]
    }
   ],
   "source": [
    "print(\"Exemplo com números inteiros\")\n",
    "print()\n",
    "\n",
    "x = 10\n",
    "\n",
    "try:\n",
    "    x += 5\n",
    "except TypeError as e:\n",
    "    print(f\"Erro: {e}\")\n",
    "\n",
    "y = x + 5\n",
    "\n",
    "print(f\"Valor original: {x}\")\n",
    "print(f\"Novo valor: {y}\")\n"
   ]
  },
  {
   "cell_type": "code",
   "execution_count": null,
   "metadata": {},
   "outputs": [
    {
     "name": "stdout",
     "output_type": "stream",
     "text": [
      "Exemplo com números deponto flutuante\n",
      "\n",
      "Valor original: 6.28\n",
      "Novo valor: 12.56\n"
     ]
    }
   ],
   "source": [
    "print(\"Exemplo com números deponto flutuante\")\n",
    "print()\n",
    "\n",
    "z = 3.14\n",
    "\n",
    "try:\n",
    "    z *= 2\n",
    "except TypeError as e:\n",
    "    print(f\"Erro: {e}\")\n",
    "\n",
    "w = z * 2\n",
    "\n",
    "print(f\"Valor original: {z}\")\n",
    "print(f\"Novo valor: {w}\")\n"
   ]
  },
  {
   "cell_type": "markdown",
   "metadata": {},
   "source": [
    "- Verifique quais métodos estão disponíveis para as variáveis de ponto flutuante;"
   ]
  },
  {
   "cell_type": "code",
   "execution_count": null,
   "metadata": {},
   "outputs": [
    {
     "name": "stdout",
     "output_type": "stream",
     "text": [
      "__abs__\n",
      "__add__\n",
      "__bool__\n",
      "__ceil__\n",
      "__class__\n",
      "__delattr__\n",
      "__dir__\n",
      "__divmod__\n",
      "__doc__\n",
      "__eq__\n",
      "__float__\n",
      "__floor__\n",
      "__floordiv__\n",
      "__format__\n",
      "__ge__\n",
      "__getattribute__\n",
      "__getformat__\n",
      "__getnewargs__\n",
      "__gt__\n",
      "__hash__\n",
      "__init__\n",
      "__init_subclass__\n",
      "__int__\n",
      "__le__\n",
      "__lt__\n",
      "__mod__\n",
      "__mul__\n",
      "__ne__\n",
      "__neg__\n",
      "__new__\n",
      "__pos__\n",
      "__pow__\n",
      "__radd__\n",
      "__rdivmod__\n",
      "__reduce__\n",
      "__reduce_ex__\n",
      "__repr__\n",
      "__rfloordiv__\n",
      "__rmod__\n",
      "__rmul__\n",
      "__round__\n",
      "__rpow__\n",
      "__rsub__\n",
      "__rtruediv__\n",
      "__setattr__\n",
      "__setformat__\n",
      "__sizeof__\n",
      "__str__\n",
      "__sub__\n",
      "__subclasshook__\n",
      "__truediv__\n",
      "__trunc__\n",
      "as_integer_ratio\n",
      "conjugate\n",
      "fromhex\n",
      "hex\n",
      "imag\n",
      "is_integer\n",
      "real\n"
     ]
    }
   ],
   "source": [
    "numero_float = 3.14\n",
    "\n",
    "metodos_disponiveis = dir(numero_float)\n",
    "\n",
    "for metodo in metodos_disponiveis:\n",
    "    print(metodo)\n"
   ]
  },
  {
   "cell_type": "markdown",
   "metadata": {},
   "source": [
    "\n",
    "Exercício 6 : Manipulando listas"
   ]
  },
  {
   "attachments": {
    "image.png": {
     "image/png": "[encoded data removed]"
    }
   },
   "cell_type": "markdown",
   "metadata": {},
   "source": [
    "- Dado o seguinte código, e antes de implementar, veja o que será impresso em cada caso:\n",
    "\n",
    "![image.png](attachment:image.png)"
   ]
  },
  {
   "cell_type": "code",
   "execution_count": null,
   "metadata": {},
   "outputs": [
    {
     "name": "stdout",
     "output_type": "stream",
     "text": [
      "[9, 8, 7, 6, 5, 4, 3, 2, 1]\n",
      "[9]\n",
      "[1, 2, 3, 4, 5, 6, 7, 8]\n",
      "[9, 7, 5, 3, 1]\n",
      "[8, 9]\n",
      "[1, 2, 3, 4, 5, 6, 7]\n"
     ]
    }
   ],
   "source": [
    "L = [ 1, 2, 3, 4, 5, 6, 7, 8, 9 ]\n",
    "print(L[::-1])\n",
    "print(L[-1::])\n",
    "print(L[:-1:])\n",
    "print(L[::-2])\n",
    "print(L[-2::])\n",
    "print(L[:-2:])"
   ]
  },
  {
   "attachments": {
    "image.png": {
     "image/png": "[encoded data removed]"
    }
   },
   "cell_type": "markdown",
   "metadata": {},
   "source": [
    "- Uma forma simplificada de determinar o seu animal no zodiaco chines é apresentada na seguinte tabela:\n",
    "\n",
    "![image.png](attachment:image.png)\n",
    "\n",
    "Descubra qual o signo de um usuário de acordo com seu ano de nascimento."
   ]
  },
  {
   "cell_type": "code",
   "execution_count": null,
   "metadata": {},
   "outputs": [],
   "source": [
    "sign = ['Macaco', 'Galo', 'Cão', 'Porco', 'Rato', 'Boi', \n",
    "        'Tigre', 'Coelho', 'Dragão','Serpente', 'Cavalo', 'Carneiro']\n",
    "\n",
    "n = input(\"Digite seu ano de nascimento: \")\n",
    "n = int(n)\n",
    "\n",
    "print(\"O seu signo chinês é: \" + sign[n % 12])"
   ]
  },
  {
   "cell_type": "markdown",
   "metadata": {},
   "source": [
    "OUTPUT\n",
    "\n",
    "Digite seu ano de nascimento: 1991\n",
    "O seu signo chinês é: Carneiro"
   ]
  }
 ],
 "metadata": {
  "kernelspec": {
   "display_name": "Python 3",
   "language": "python",
   "name": "python3"
  },
  "language_info": {
   "codemirror_mode": {
    "name": "ipython",
    "version": 3
   },
   "file_extension": ".py",
   "mimetype": "text/x-python",
   "name": "python",
   "nbconvert_exporter": "python",
   "pygments_lexer": "ipython3",
   "version": "3.10.12"
  }
 },
 "nbformat": 4,
 "nbformat_minor": 2
}
