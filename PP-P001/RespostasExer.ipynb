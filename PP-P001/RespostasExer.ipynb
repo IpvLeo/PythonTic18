{
 "cells": [
  {
   "cell_type": "markdown",
   "metadata": {},
   "source": [
    "\n",
    "## Respostas da prática PP-P001\n",
    "\n",
    "Exercício 2:\n",
    "\n",
    "A linguagem Python disponibiliza uma série desses operadores para os desenvolvedores utilizarem, porém irei só relatar sobre operadores aritméticos e compostos.\n",
    "\n",
    "\n",
    "Operadores Aritméticos\n",
    "\n",
    "Esses operadores são utilizados para criarmos expressões matemáticas comuns, como soma, subtração, multiplicação e divisão.\n",
    "\n",
    "Veja quais estão disponíveis no Python:\n",
    "\n",
    "| Operador | Nome               | Função                                                            |\n",
    "|----------|--------------------|-------------------------------------------------------------------|\n",
    "| +        | Adição             | Realiza a soma de ambos operandos.                                |\n",
    "| -        | Subtração          | Realiza a subtração de ambos operandos.                           |\n",
    "| *        | Multiplicação      | Realiza a multiplicação de ambos operandos.                       |\n",
    "| /        | Divisão            | Realiza a divisão de ambos operandos.                             |\n",
    "| //       | Divisão inteira    | Realiza a divisão entre operandos e retorna a parte inteira.      |\n",
    "| %        | Módulo             | Retorna o resto da divisão de ambos operandos.                    |\n",
    "| **       | Exponenciação      | Retorna o resultado da elevação da potência pelo outro.           |\n",
    "\n",
    "\n",
    "Veja agora a utilização de cada operador aritmético mencionado acima:"
   ]
  },
  {
   "cell_type": "code",
   "execution_count": 16,
   "metadata": {},
   "outputs": [
    {
     "name": "stdout",
     "output_type": "stream",
     "text": [
      "8\n",
      "2\n",
      "15\n",
      "1.6666666666666667\n",
      "1\n",
      "2\n",
      "125\n"
     ]
    }
   ],
   "source": [
    "quatro = 5\n",
    "dois = 3\n",
    "\n",
    "soma = quatro + dois\n",
    "print(soma)  # Resultado: 6\n",
    "\n",
    "subtracao = quatro - dois\n",
    "print(subtracao)  # Resultado: 2\n",
    "\n",
    "multiplicacao = quatro * dois\n",
    "print(multiplicacao)  # Resultado: 8\n",
    "\n",
    "divisao = quatro / dois\n",
    "print(divisao)  # Resultado: 2.0\n",
    "\n",
    "divisao_interna = quatro // dois\n",
    "print(divisao_interna)  # Resultado: 2\n",
    "\n",
    "modulo = quatro % dois\n",
    "print(modulo)  # Resultado: 0\n",
    "\n",
    "exponenciacao = quatro ** dois\n",
    "print(exponenciacao)  # Resultado: 16"
   ]
  },
  {
   "cell_type": "markdown",
   "metadata": {},
   "source": [
    "Operadores de Comparação\n",
    "\n",
    "Como o nome já diz, esses Operadores são usados para comparar dois valores:\n",
    "\n",
    "| Operador | Nome              | Função                                            |\n",
    "|----------|-------------------|---------------------------------------------------|\n",
    "| ==       | Igual a           | Verifica se um valor é igual ao outro.            |\n",
    "| !=       | Diferente de      | Verifica se um valor é diferente ao outro.        |\n",
    "| >        | Maior que         | Verifica se um valor é maior que outro.           |\n",
    "| >=       | Maior ou igual    | Verifica se um valor é maior ou igual ao outro.   |\n",
    "| <        | Menor que         | Verifica se um valor é menor que outro.           |\n",
    "| <=       | Menor ou igual    | Verifica se um valor é menor ou igual ao outro.   |\n",
    "\n",
    "\n",
    "Log abaixo tem exemplos da utilização de cada operador de comparação mencionado acima.\n",
    "\n",
    "Para facilitar o entendimento, todas as operações estão retornando um valor igual a True, para que você entenda como cada condição é aceita:"
   ]
  },
  {
   "cell_type": "code",
   "execution_count": 17,
   "metadata": {},
   "outputs": [
    {
     "name": "stdout",
     "output_type": "stream",
     "text": [
      "Os valores são iguais\n",
      "O valor não é igual a 7\n",
      "O valor da variável é maior de 2\n",
      "O valor da variável é maior ou igual a 5\n",
      "O valor da variável é menor que 7\n",
      "O valor da variável é menor ou igual a 5\n"
     ]
    }
   ],
   "source": [
    "var = 5\n",
    "\n",
    "if var == 5:\n",
    "    print('Os valores são iguais')\n",
    "\n",
    "if var != 7:\n",
    "    print('O valor não é igual a 7')\n",
    "\n",
    "if var > 2:\n",
    "    print('O valor da variável é maior de 2')\n",
    "\n",
    "if var >= 5:\n",
    "    print('O valor da variável é maior ou igual a 5')\n",
    "\n",
    "if var < 7:\n",
    "    print('O valor da variável é menor que 7')\n",
    "\n",
    "if var <= 5:\n",
    "    print('O valor da variável é menor ou igual a 5')"
   ]
  },
  {
   "cell_type": "markdown",
   "metadata": {},
   "source": [
    "As diferenças notáveis que python tem em relação a C++ são essas:\n",
    "\n",
    "    - Dinamicidade de Tipos\n",
    "    - Sem Limite de Tamanho\n",
    "    - Operações de Divisão\n",
    "    - Operadores de Comparação \n",
    "    - Operador de Potência\n",
    "    - Operador de Módulo \n",
    "\n",
    "Obs.: Python é projetado para ser mais simples e fácil de ler, enquanto C/C++ oferecem mais controle sobre os detalhes de implementação e desempenho."
   ]
  },
  {
   "cell_type": "markdown",
   "metadata": {},
   "source": [
    "Um exemplo interessante entre Python e C++ é o cálculo do fatorial de 30 em Python e comparar o resultado com o maior valor inteiro que pode ser representado em C/C++. É bom ressaltar que Python possui a biblioteca math que fornece uma função para calcular fatoriais, enquanto em C/C++, podemos usar um tipo de dados de tamanho adequado para armazenar o resultado.\n",
    "\n",
    "Logo abaixo tem o código em Python e em C++."
   ]
  },
  {
   "cell_type": "code",
   "execution_count": 18,
   "metadata": {},
   "outputs": [
    {
     "name": "stdout",
     "output_type": "stream",
     "text": [
      "Fatorial de 30 em Python: 265252859812191058636308480000000\n"
     ]
    }
   ],
   "source": [
    "import math\n",
    "\n",
    "# Calcular fatorial de 30 em Python\n",
    "fatorial_30 = math.factorial(30)\n",
    "print(\"Fatorial de 30 em Python:\", fatorial_30)\n"
   ]
  },
  {
   "cell_type": "code",
   "execution_count": 19,
   "metadata": {},
   "outputs": [
    {
     "ename": "SyntaxError",
     "evalue": "invalid syntax (3932625755.py, line 4)",
     "output_type": "error",
     "traceback": [
      "\u001b[0;36m  Cell \u001b[0;32mIn[19], line 4\u001b[0;36m\u001b[0m\n\u001b[0;31m    int main() {\u001b[0m\n\u001b[0m        ^\u001b[0m\n\u001b[0;31mSyntaxError\u001b[0m\u001b[0;31m:\u001b[0m invalid syntax\n"
     ]
    }
   ],
   "source": [
    "#include <iostream>\n",
    "#include <cstdint>\n",
    "\n",
    "int main() {\n",
    "    // Calcular fatorial de 30 em C++\n",
    "    uint64_t fatorial_30 = 1;  // Usando uint64_t para representar grandes inteiros\n",
    "    for (int i = 2; i <= 30; ++i) {\n",
    "        fatorial_30 *= i;\n",
    "    }\n",
    "\n",
    "    std::cout << \"Fatorial de 30 em C++: \" << fatorial_30 << std::endl;\n",
    "\n",
    "    // Maior valor inteiro representável em C++\n",
    "    std::cout << \"Maior valor inteiro em C++: \" << UINT64_MAX << std::endl;\n",
    "\n",
    "    return 0;\n",
    "}\n"
   ]
  },
  {
   "cell_type": "markdown",
   "metadata": {},
   "source": [
    "Output\n",
    "\n",
    "Fatorial de 30 em C++: 9682165104862298112\n",
    "Maior valor inteiro em C++: 18446744073709551615"
   ]
  },
  {
   "cell_type": "markdown",
   "metadata": {},
   "source": [
    "Obs.: É notório que o cálculo do fatorial de 30 é um número grande e excede o valor representável por muitos tipos de dados inteiros em linguagens, e como exemplo C/C++. Portanto, ao usar Python não foi preciso se preocupar com os limites de tamanho dos inteiros, pois a linguagem gerencia automaticamente o tamanho necessário para armazenar números grandes. Já em C/C++, é necessário escolher um tipo de dados apropriado para lidar com números grandes."
   ]
  },
  {
   "cell_type": "markdown",
   "metadata": {},
   "source": [
    "| Variáveis Imutáveis\n",
    "\n",
    "As variáveis numéricas são imutáveis devido à atribuição de um valor a mesma que não pode alterar diretamente. Em geral, a imutabilidade de variáveis numéricas em Python traz benefícios em termos de segurança e previsibilidade, embora haja situações em que a mutabilidade seja desejável.\n",
    "\n",
    "Logo abaixo possui exemplos para ilustrar as implicações dessa imutabilidade."
   ]
  },
  {
   "cell_type": "code",
   "execution_count": null,
   "metadata": {},
   "outputs": [
    {
     "name": "stdout",
     "output_type": "stream",
     "text": [
      "Antes da alteração:\n",
      "num1: 5\n",
      "num2: 5\n",
      "\n",
      "Depois da alteração:\n",
      "num1: 10\n",
      "num2: 5\n"
     ]
    }
   ],
   "source": [
    "# Imutabilidade de inteiros\n",
    "num1 = 5\n",
    "num2 = num1  # Cria uma nova referência para o mesmo objeto\n",
    "\n",
    "print(\"Antes da alteração:\")\n",
    "print(\"num1:\", num1)\n",
    "print(\"num2:\", num2)\n",
    "\n",
    "# Tentativa de alterar o valor de num1\n",
    "num1 = 10  # Cria uma nova instância de int\n",
    "\n",
    "print(\"\\nDepois da alteração:\")\n",
    "print(\"num1:\", num1)  # num1 foi alterado\n",
    "print(\"num2:\", num2)  # num2 permanece o mesmo"
   ]
  },
  {
   "cell_type": "code",
   "execution_count": null,
   "metadata": {},
   "outputs": [
    {
     "name": "stdout",
     "output_type": "stream",
     "text": [
      "Antes da alteração:\n",
      "pi: 3.14159\n",
      "\n",
      "Depois da alteração:\n",
      "pi: 3.14\n"
     ]
    }
   ],
   "source": [
    "# Imutabilidade de floats\n",
    "pi = 3.14159\n",
    "\n",
    "print(\"Antes da alteração:\")\n",
    "print(\"pi:\", pi)\n",
    "\n",
    "# Tentativa de alterar o valor de pi\n",
    "# Isso cria uma nova instância de float\n",
    "pi = 3.14\n",
    "\n",
    "print(\"\\nDepois da alteração:\")\n",
    "print(\"pi:\", pi)  # pi foi alterado\n"
   ]
  },
  {
   "cell_type": "markdown",
   "metadata": {},
   "source": [
    "| Métodos disponíveis para as variáveis inteiras são:\n",
    "\n",
    "        - Operadores Aritméticos\n",
    "        - Operadores Atribuídos\n",
    "        - Operadores Bitwise\n",
    "        - Funções Built-in\n",
    "        - Métodos Específicos do Tipo int\n",
    "\n"
   ]
  },
  {
   "cell_type": "markdown",
   "metadata": {},
   "source": [
    "Exercício 3:"
   ]
  }
 ],
 "metadata": {
  "kernelspec": {
   "display_name": "Python 3",
   "language": "python",
   "name": "python3"
  },
  "language_info": {
   "codemirror_mode": {
    "name": "ipython",
    "version": 3
   },
   "file_extension": ".py",
   "mimetype": "text/x-python",
   "name": "python",
   "nbconvert_exporter": "python",
   "pygments_lexer": "ipython3",
   "version": "3.10.12"
  }
 },
 "nbformat": 4,
 "nbformat_minor": 2
}
