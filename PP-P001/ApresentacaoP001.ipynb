{
 "cells": [
  {
   "cell_type": "markdown",
   "metadata": {},
   "source": [
    "# P001 #\n",
    "\n",
    "#### **2. Em Python os operadores aritmticos tem algumas mudanças em relação a c++, sendo elas a declaração do tipo da variável que em c++ é preciso declara o tipo antes de um variável para depois inserir o valor desejado. Em python o tipo da variável é atribuida quando o valor é passado.** ####\n"
   ]
  },
  {
   "cell_type": "code",
   "execution_count": 1,
   "metadata": {},
   "outputs": [],
   "source": [
    "valor = 5\n",
    "#O tipo inteiro esta sendo atribuido a variavel assim que automaticamente pelo valor valor atribuido"
   ]
  },
  {
   "cell_type": "markdown",
   "metadata": {},
   "source": [
    "#### Existe tambem o famoso (casting) para conversão de tipo, a sintaxe se diferencia com sutileza em relação o c++. Observe que a variável começa como um inteiro e, em seguida, é reatribuída como uma string. O Python permite essa mudança dinâmica de tipo."
   ]
  },
  {
   "cell_type": "code",
   "execution_count": 2,
   "metadata": {},
   "outputs": [
    {
     "name": "stdout",
     "output_type": "stream",
     "text": [
      "<class 'int'>\n",
      "<class 'str'>\n"
     ]
    }
   ],
   "source": [
    "# Conversão de tipo (casting)\n",
    "n_inteiro = 123\n",
    "n_string = str(n_inteiro)\n",
    "\n",
    "print(type(n_inteiro))  # <class 'int'>\n",
    "print(type(n_string))   # <class 'str'>\n"
   ]
  },
  {
   "cell_type": "markdown",
   "metadata": {},
   "source": [
    "#### Os operadores aritmeticos funcionam com as seguites operaçoes: Adiçao, Subtração, Multiplicação, Divisão, Divisão inteira (que é uma exceção comparado ao c++), Modulo(Resto) e a Potência ####"
   ]
  },
  {
   "cell_type": "code",
   "execution_count": 4,
   "metadata": {},
   "outputs": [],
   "source": [
    "a = 10\n",
    "b = 5\n",
    "resultado = a + b\n",
    "#Adição"
   ]
  },
  {
   "cell_type": "code",
   "execution_count": 3,
   "metadata": {},
   "outputs": [],
   "source": [
    "a = 10\n",
    "b = 5\n",
    "resultado = a - b\n",
    "#Subtração"
   ]
  },
  {
   "cell_type": "code",
   "execution_count": 5,
   "metadata": {},
   "outputs": [],
   "source": [
    "a = 10\n",
    "b = 5\n",
    "resultado = a * b\n",
    "#Multiplicação"
   ]
  },
  {
   "cell_type": "code",
   "execution_count": 6,
   "metadata": {},
   "outputs": [],
   "source": [
    "a = 10\n",
    "b = 5\n",
    "resultado = a / b\n",
    "#Divisão"
   ]
  },
  {
   "cell_type": "code",
   "execution_count": 7,
   "metadata": {},
   "outputs": [],
   "source": [
    "a = 10\n",
    "b = 3\n",
    "resultado = a // b  # Resultado será 3\n",
    "#Divisão inteira(Não usa as casas decimais da divisão padrão.)"
   ]
  },
  {
   "cell_type": "code",
   "execution_count": null,
   "metadata": {},
   "outputs": [],
   "source": [
    "a = 10\n",
    "b = 3\n",
    "resultado = a % b  # Resultado será 1\n",
    "#Modulo"
   ]
  },
  {
   "cell_type": "code",
   "execution_count": 8,
   "metadata": {},
   "outputs": [],
   "source": [
    "a = 2\n",
    "b = 3\n",
    "resultado = a ** b  # Resultado será 8\n",
    "#Potência"
   ]
  },
  {
   "cell_type": "markdown",
   "metadata": {},
   "source": [
    "#### Já os operadores compostos combinam uma operação aritmética com a atribuição do resultado à variável. Vou exemplificar em Adição. ####"
   ]
  },
  {
   "cell_type": "code",
   "execution_count": 12,
   "metadata": {},
   "outputs": [
    {
     "name": "stdout",
     "output_type": "stream",
     "text": [
      "5\n",
      "8\n"
     ]
    }
   ],
   "source": [
    "a = 5\n",
    "print(a)#Aqui o valor ainda é 5\n",
    "a += 3  # Equivalente a: a = a + 3\n",
    "print(a)#O valor 5 + 3 que lê foi atribuido"
   ]
  },
  {
   "cell_type": "markdown",
   "metadata": {},
   "source": [
    "#### Um exemplo do poder para representar grandes numeros em python(e ainda maiores com susa bibliotecas)"
   ]
  },
  {
   "cell_type": "code",
   "execution_count": 13,
   "metadata": {},
   "outputs": [
    {
     "name": "stdout",
     "output_type": "stream",
     "text": [
      "O fatorial de 30 é: 265252859812191058636308480000000\n"
     ]
    }
   ],
   "source": [
    "def fatorial(n):\n",
    "    if n == 0 or n == 1:\n",
    "        return 1\n",
    "    else:\n",
    "        return n * fatorial(n - 1)\n",
    "\n",
    "resultado = fatorial(30)\n",
    "print(f\"O fatorial de 30 é: {resultado}\")\n"
   ]
  },
  {
   "cell_type": "markdown",
   "metadata": {},
   "source": [
    "#### Em c++ o valor maximo do tipo int é '2147483647', sendo muito dificil ter uma representação tão detalhada do resultado. ####"
   ]
  },
  {
   "cell_type": "markdown",
   "metadata": {},
   "source": [
    " ~~~ c++\n",
    " \n",
    " #include <iostream>\n",
    "\n",
    "\n",
    "using namespace std;\n",
    "// Função para calcular o fatorial\n",
    "long long fatorial(int n) {\n",
    "    if (n == 0 || n == 1) {\n",
    "        return 1;\n",
    "    } else {\n",
    "        return n * fatorial(n - 1);\n",
    "    }\n",
    "}\n",
    "\n",
    "int main() {\n",
    "    // Calcular o fatorial de 30\n",
    "    int numero = 30;\n",
    "    long long resultado = fatorial(numero);\n",
    "\n",
    "    // Exibir o resultado\n",
    "    cout << \"O fatorial de \" << numero << \" e: \" << resultado << endl;\n",
    "\n",
    "    return 0;\n",
    "}\n",
    "//mesmo usando long long o resultado dessa função é -8764578968847253504\n",
    "~~~ \n"
   ]
  },
  {
   "cell_type": "markdown",
   "metadata": {},
   "source": [
    "##### \"No Python, o tipo int é dinâmico e pode acomodar números inteiros arbitrariamente grandes. No entanto, em C++, os tipos de dados têm tamanhos fixos e podem estourar se o número resultante for muito grande.\""
   ]
  },
  {
   "cell_type": "markdown",
   "metadata": {},
   "source": [
    "#####  A imutabilidade acontece pq e alocado na memoria um novo espaço de memoria para a nova variável, sendo assim uma variavel se torna copia da outra somente do valor inicial. ####"
   ]
  },
  {
   "cell_type": "code",
   "execution_count": 18,
   "metadata": {},
   "outputs": [
    {
     "name": "stdout",
     "output_type": "stream",
     "text": [
      "n1 15\n",
      "140727466648808\n",
      "n2 10\n",
      "140727466648648\n"
     ]
    }
   ],
   "source": [
    "n1 = 10\n",
    "n2 = n1 #Cria uma nova referência para o mesmo valor\n",
    "\n",
    "n1 += 5 #Não altera o valor de n2\n",
    "\n",
    "print(\"n1\", n1)\n",
    "print(id(n1))\n",
    "\n",
    "print(\"n2\", n2)\n",
    "print(id(n2)) # alocação em lugares distintos"
   ]
  },
  {
   "cell_type": "markdown",
   "metadata": {},
   "source": [
    "##### 3. Codigo para Imprimir todos os caracteres"
   ]
  },
  {
   "cell_type": "code",
   "execution_count": 25,
   "metadata": {},
   "outputs": [
    {
     "name": "stdout",
     "output_type": "stream",
     "text": [
      "Caractere:  , Código Numérico: 32\n",
      "Caractere: !, Código Numérico: 33\n",
      "Caractere: \", Código Numérico: 34\n",
      "Caractere: #, Código Numérico: 35\n",
      "Caractere: $, Código Numérico: 36\n",
      "Caractere: %, Código Numérico: 37\n",
      "Caractere: &, Código Numérico: 38\n",
      "Caractere: ', Código Numérico: 39\n",
      "Caractere: (, Código Numérico: 40\n",
      "Caractere: ), Código Numérico: 41\n",
      "Caractere: *, Código Numérico: 42\n",
      "Caractere: +, Código Numérico: 43\n",
      "Caractere: ,, Código Numérico: 44\n",
      "Caractere: -, Código Numérico: 45\n",
      "Caractere: ., Código Numérico: 46\n",
      "Caractere: /, Código Numérico: 47\n",
      "Caractere: 0, Código Numérico: 48\n",
      "Caractere: 1, Código Numérico: 49\n",
      "Caractere: 2, Código Numérico: 50\n",
      "Caractere: 3, Código Numérico: 51\n",
      "Caractere: 4, Código Numérico: 52\n",
      "Caractere: 5, Código Numérico: 53\n",
      "Caractere: 6, Código Numérico: 54\n",
      "Caractere: 7, Código Numérico: 55\n",
      "Caractere: 8, Código Numérico: 56\n",
      "Caractere: 9, Código Numérico: 57\n",
      "Caractere: :, Código Numérico: 58\n",
      "Caractere: ;, Código Numérico: 59\n",
      "Caractere: <, Código Numérico: 60\n",
      "Caractere: =, Código Numérico: 61\n",
      "Caractere: >, Código Numérico: 62\n",
      "Caractere: ?, Código Numérico: 63\n",
      "Caractere: @, Código Numérico: 64\n",
      "Caractere: A, Código Numérico: 65\n",
      "Caractere: B, Código Numérico: 66\n",
      "Caractere: C, Código Numérico: 67\n",
      "Caractere: D, Código Numérico: 68\n",
      "Caractere: E, Código Numérico: 69\n",
      "Caractere: F, Código Numérico: 70\n",
      "Caractere: G, Código Numérico: 71\n",
      "Caractere: H, Código Numérico: 72\n",
      "Caractere: I, Código Numérico: 73\n",
      "Caractere: J, Código Numérico: 74\n",
      "Caractere: K, Código Numérico: 75\n",
      "Caractere: L, Código Numérico: 76\n",
      "Caractere: M, Código Numérico: 77\n",
      "Caractere: N, Código Numérico: 78\n",
      "Caractere: O, Código Numérico: 79\n",
      "Caractere: P, Código Numérico: 80\n",
      "Caractere: Q, Código Numérico: 81\n",
      "Caractere: R, Código Numérico: 82\n",
      "Caractere: S, Código Numérico: 83\n",
      "Caractere: T, Código Numérico: 84\n",
      "Caractere: U, Código Numérico: 85\n",
      "Caractere: V, Código Numérico: 86\n",
      "Caractere: W, Código Numérico: 87\n",
      "Caractere: X, Código Numérico: 88\n",
      "Caractere: Y, Código Numérico: 89\n",
      "Caractere: Z, Código Numérico: 90\n",
      "Caractere: [, Código Numérico: 91\n",
      "Caractere: \\, Código Numérico: 92\n",
      "Caractere: ], Código Numérico: 93\n",
      "Caractere: ^, Código Numérico: 94\n",
      "Caractere: _, Código Numérico: 95\n",
      "Caractere: `, Código Numérico: 96\n",
      "Caractere: a, Código Numérico: 97\n",
      "Caractere: b, Código Numérico: 98\n",
      "Caractere: c, Código Numérico: 99\n",
      "Caractere: d, Código Numérico: 100\n",
      "Caractere: e, Código Numérico: 101\n",
      "Caractere: f, Código Numérico: 102\n",
      "Caractere: g, Código Numérico: 103\n",
      "Caractere: h, Código Numérico: 104\n",
      "Caractere: i, Código Numérico: 105\n",
      "Caractere: j, Código Numérico: 106\n",
      "Caractere: k, Código Numérico: 107\n",
      "Caractere: l, Código Numérico: 108\n",
      "Caractere: m, Código Numérico: 109\n",
      "Caractere: n, Código Numérico: 110\n",
      "Caractere: o, Código Numérico: 111\n",
      "Caractere: p, Código Numérico: 112\n",
      "Caractere: q, Código Numérico: 113\n",
      "Caractere: r, Código Numérico: 114\n",
      "Caractere: s, Código Numérico: 115\n",
      "Caractere: t, Código Numérico: 116\n",
      "Caractere: u, Código Numérico: 117\n",
      "Caractere: v, Código Numérico: 118\n",
      "Caractere: w, Código Numérico: 119\n",
      "Caractere: x, Código Numérico: 120\n",
      "Caractere: y, Código Numérico: 121\n",
      "Caractere: z, Código Numérico: 122\n",
      "Caractere: {, Código Numérico: 123\n",
      "Caractere: |, Código Numérico: 124\n",
      "Caractere: }, Código Numérico: 125\n",
      "Caractere: ~, Código Numérico: 126\n"
     ]
    }
   ],
   "source": [
    "\n",
    "for i in range(32, 127):\n",
    "    print(f\"Caractere: {chr(i)}, Código Numérico: {i}\")"
   ]
  },
  {
   "cell_type": "markdown",
   "metadata": {},
   "source": [
    "Agora com octal e hexadecimal."
   ]
  },
  {
   "cell_type": "code",
   "execution_count": 26,
   "metadata": {},
   "outputs": [
    {
     "name": "stdout",
     "output_type": "stream",
     "text": [
      "Caractere:  , Código Decimal: 32, Código Octal: 0o40, Código Hexadecimal: 0x20\n",
      "Caractere: !, Código Decimal: 33, Código Octal: 0o41, Código Hexadecimal: 0x21\n",
      "Caractere: \", Código Decimal: 34, Código Octal: 0o42, Código Hexadecimal: 0x22\n",
      "Caractere: #, Código Decimal: 35, Código Octal: 0o43, Código Hexadecimal: 0x23\n",
      "Caractere: $, Código Decimal: 36, Código Octal: 0o44, Código Hexadecimal: 0x24\n",
      "Caractere: %, Código Decimal: 37, Código Octal: 0o45, Código Hexadecimal: 0x25\n",
      "Caractere: &, Código Decimal: 38, Código Octal: 0o46, Código Hexadecimal: 0x26\n",
      "Caractere: ', Código Decimal: 39, Código Octal: 0o47, Código Hexadecimal: 0x27\n",
      "Caractere: (, Código Decimal: 40, Código Octal: 0o50, Código Hexadecimal: 0x28\n",
      "Caractere: ), Código Decimal: 41, Código Octal: 0o51, Código Hexadecimal: 0x29\n",
      "Caractere: *, Código Decimal: 42, Código Octal: 0o52, Código Hexadecimal: 0x2a\n",
      "Caractere: +, Código Decimal: 43, Código Octal: 0o53, Código Hexadecimal: 0x2b\n",
      "Caractere: ,, Código Decimal: 44, Código Octal: 0o54, Código Hexadecimal: 0x2c\n",
      "Caractere: -, Código Decimal: 45, Código Octal: 0o55, Código Hexadecimal: 0x2d\n",
      "Caractere: ., Código Decimal: 46, Código Octal: 0o56, Código Hexadecimal: 0x2e\n",
      "Caractere: /, Código Decimal: 47, Código Octal: 0o57, Código Hexadecimal: 0x2f\n",
      "Caractere: 0, Código Decimal: 48, Código Octal: 0o60, Código Hexadecimal: 0x30\n",
      "Caractere: 1, Código Decimal: 49, Código Octal: 0o61, Código Hexadecimal: 0x31\n",
      "Caractere: 2, Código Decimal: 50, Código Octal: 0o62, Código Hexadecimal: 0x32\n",
      "Caractere: 3, Código Decimal: 51, Código Octal: 0o63, Código Hexadecimal: 0x33\n",
      "Caractere: 4, Código Decimal: 52, Código Octal: 0o64, Código Hexadecimal: 0x34\n",
      "Caractere: 5, Código Decimal: 53, Código Octal: 0o65, Código Hexadecimal: 0x35\n",
      "Caractere: 6, Código Decimal: 54, Código Octal: 0o66, Código Hexadecimal: 0x36\n",
      "Caractere: 7, Código Decimal: 55, Código Octal: 0o67, Código Hexadecimal: 0x37\n",
      "Caractere: 8, Código Decimal: 56, Código Octal: 0o70, Código Hexadecimal: 0x38\n",
      "Caractere: 9, Código Decimal: 57, Código Octal: 0o71, Código Hexadecimal: 0x39\n",
      "Caractere: :, Código Decimal: 58, Código Octal: 0o72, Código Hexadecimal: 0x3a\n",
      "Caractere: ;, Código Decimal: 59, Código Octal: 0o73, Código Hexadecimal: 0x3b\n",
      "Caractere: <, Código Decimal: 60, Código Octal: 0o74, Código Hexadecimal: 0x3c\n",
      "Caractere: =, Código Decimal: 61, Código Octal: 0o75, Código Hexadecimal: 0x3d\n",
      "Caractere: >, Código Decimal: 62, Código Octal: 0o76, Código Hexadecimal: 0x3e\n",
      "Caractere: ?, Código Decimal: 63, Código Octal: 0o77, Código Hexadecimal: 0x3f\n",
      "Caractere: @, Código Decimal: 64, Código Octal: 0o100, Código Hexadecimal: 0x40\n",
      "Caractere: A, Código Decimal: 65, Código Octal: 0o101, Código Hexadecimal: 0x41\n",
      "Caractere: B, Código Decimal: 66, Código Octal: 0o102, Código Hexadecimal: 0x42\n",
      "Caractere: C, Código Decimal: 67, Código Octal: 0o103, Código Hexadecimal: 0x43\n",
      "Caractere: D, Código Decimal: 68, Código Octal: 0o104, Código Hexadecimal: 0x44\n",
      "Caractere: E, Código Decimal: 69, Código Octal: 0o105, Código Hexadecimal: 0x45\n",
      "Caractere: F, Código Decimal: 70, Código Octal: 0o106, Código Hexadecimal: 0x46\n",
      "Caractere: G, Código Decimal: 71, Código Octal: 0o107, Código Hexadecimal: 0x47\n",
      "Caractere: H, Código Decimal: 72, Código Octal: 0o110, Código Hexadecimal: 0x48\n",
      "Caractere: I, Código Decimal: 73, Código Octal: 0o111, Código Hexadecimal: 0x49\n",
      "Caractere: J, Código Decimal: 74, Código Octal: 0o112, Código Hexadecimal: 0x4a\n",
      "Caractere: K, Código Decimal: 75, Código Octal: 0o113, Código Hexadecimal: 0x4b\n",
      "Caractere: L, Código Decimal: 76, Código Octal: 0o114, Código Hexadecimal: 0x4c\n",
      "Caractere: M, Código Decimal: 77, Código Octal: 0o115, Código Hexadecimal: 0x4d\n",
      "Caractere: N, Código Decimal: 78, Código Octal: 0o116, Código Hexadecimal: 0x4e\n",
      "Caractere: O, Código Decimal: 79, Código Octal: 0o117, Código Hexadecimal: 0x4f\n",
      "Caractere: P, Código Decimal: 80, Código Octal: 0o120, Código Hexadecimal: 0x50\n",
      "Caractere: Q, Código Decimal: 81, Código Octal: 0o121, Código Hexadecimal: 0x51\n",
      "Caractere: R, Código Decimal: 82, Código Octal: 0o122, Código Hexadecimal: 0x52\n",
      "Caractere: S, Código Decimal: 83, Código Octal: 0o123, Código Hexadecimal: 0x53\n",
      "Caractere: T, Código Decimal: 84, Código Octal: 0o124, Código Hexadecimal: 0x54\n",
      "Caractere: U, Código Decimal: 85, Código Octal: 0o125, Código Hexadecimal: 0x55\n",
      "Caractere: V, Código Decimal: 86, Código Octal: 0o126, Código Hexadecimal: 0x56\n",
      "Caractere: W, Código Decimal: 87, Código Octal: 0o127, Código Hexadecimal: 0x57\n",
      "Caractere: X, Código Decimal: 88, Código Octal: 0o130, Código Hexadecimal: 0x58\n",
      "Caractere: Y, Código Decimal: 89, Código Octal: 0o131, Código Hexadecimal: 0x59\n",
      "Caractere: Z, Código Decimal: 90, Código Octal: 0o132, Código Hexadecimal: 0x5a\n",
      "Caractere: [, Código Decimal: 91, Código Octal: 0o133, Código Hexadecimal: 0x5b\n",
      "Caractere: \\, Código Decimal: 92, Código Octal: 0o134, Código Hexadecimal: 0x5c\n",
      "Caractere: ], Código Decimal: 93, Código Octal: 0o135, Código Hexadecimal: 0x5d\n",
      "Caractere: ^, Código Decimal: 94, Código Octal: 0o136, Código Hexadecimal: 0x5e\n",
      "Caractere: _, Código Decimal: 95, Código Octal: 0o137, Código Hexadecimal: 0x5f\n",
      "Caractere: `, Código Decimal: 96, Código Octal: 0o140, Código Hexadecimal: 0x60\n",
      "Caractere: a, Código Decimal: 97, Código Octal: 0o141, Código Hexadecimal: 0x61\n",
      "Caractere: b, Código Decimal: 98, Código Octal: 0o142, Código Hexadecimal: 0x62\n",
      "Caractere: c, Código Decimal: 99, Código Octal: 0o143, Código Hexadecimal: 0x63\n",
      "Caractere: d, Código Decimal: 100, Código Octal: 0o144, Código Hexadecimal: 0x64\n",
      "Caractere: e, Código Decimal: 101, Código Octal: 0o145, Código Hexadecimal: 0x65\n",
      "Caractere: f, Código Decimal: 102, Código Octal: 0o146, Código Hexadecimal: 0x66\n",
      "Caractere: g, Código Decimal: 103, Código Octal: 0o147, Código Hexadecimal: 0x67\n",
      "Caractere: h, Código Decimal: 104, Código Octal: 0o150, Código Hexadecimal: 0x68\n",
      "Caractere: i, Código Decimal: 105, Código Octal: 0o151, Código Hexadecimal: 0x69\n",
      "Caractere: j, Código Decimal: 106, Código Octal: 0o152, Código Hexadecimal: 0x6a\n",
      "Caractere: k, Código Decimal: 107, Código Octal: 0o153, Código Hexadecimal: 0x6b\n",
      "Caractere: l, Código Decimal: 108, Código Octal: 0o154, Código Hexadecimal: 0x6c\n",
      "Caractere: m, Código Decimal: 109, Código Octal: 0o155, Código Hexadecimal: 0x6d\n",
      "Caractere: n, Código Decimal: 110, Código Octal: 0o156, Código Hexadecimal: 0x6e\n",
      "Caractere: o, Código Decimal: 111, Código Octal: 0o157, Código Hexadecimal: 0x6f\n",
      "Caractere: p, Código Decimal: 112, Código Octal: 0o160, Código Hexadecimal: 0x70\n",
      "Caractere: q, Código Decimal: 113, Código Octal: 0o161, Código Hexadecimal: 0x71\n",
      "Caractere: r, Código Decimal: 114, Código Octal: 0o162, Código Hexadecimal: 0x72\n",
      "Caractere: s, Código Decimal: 115, Código Octal: 0o163, Código Hexadecimal: 0x73\n",
      "Caractere: t, Código Decimal: 116, Código Octal: 0o164, Código Hexadecimal: 0x74\n",
      "Caractere: u, Código Decimal: 117, Código Octal: 0o165, Código Hexadecimal: 0x75\n",
      "Caractere: v, Código Decimal: 118, Código Octal: 0o166, Código Hexadecimal: 0x76\n",
      "Caractere: w, Código Decimal: 119, Código Octal: 0o167, Código Hexadecimal: 0x77\n",
      "Caractere: x, Código Decimal: 120, Código Octal: 0o170, Código Hexadecimal: 0x78\n",
      "Caractere: y, Código Decimal: 121, Código Octal: 0o171, Código Hexadecimal: 0x79\n",
      "Caractere: z, Código Decimal: 122, Código Octal: 0o172, Código Hexadecimal: 0x7a\n",
      "Caractere: {, Código Decimal: 123, Código Octal: 0o173, Código Hexadecimal: 0x7b\n",
      "Caractere: |, Código Decimal: 124, Código Octal: 0o174, Código Hexadecimal: 0x7c\n",
      "Caractere: }, Código Decimal: 125, Código Octal: 0o175, Código Hexadecimal: 0x7d\n",
      "Caractere: ~, Código Decimal: 126, Código Octal: 0o176, Código Hexadecimal: 0x7e\n"
     ]
    }
   ],
   "source": [
    "\n",
    "\n",
    "for i in range(32, 127):\n",
    "    print(f\"Caractere: {chr(i)}, Código Decimal: {i}, Código Octal: {oct(i)}, Código Hexadecimal: {hex(i)}\")\n"
   ]
  },
  {
   "cell_type": "markdown",
   "metadata": {},
   "source": [
    "##### Abaixo está um codigo que solicita um caractere e em seguida imprimir seus codigo decimal, octal e hexadecimal. #####"
   ]
  },
  {
   "cell_type": "code",
   "execution_count": 27,
   "metadata": {},
   "outputs": [
    {
     "name": "stdout",
     "output_type": "stream",
     "text": [
      "Caractere: @\n",
      "Código Decimal: 64\n",
      "Código Octal: 0o100\n",
      "Código Hexadecimal: 0x40\n"
     ]
    }
   ],
   "source": [
    "# Solicitar ao usuário para inserir um caractere\n",
    "caractere = input(\"Digite um caractere: \")\n",
    "\n",
    "# Obter o código numérico do caractere\n",
    "codigo = ord(caractere)\n",
    "\n",
    "# Imprimir as representações em decimal, octal e hexadecimal\n",
    "print(f\"Caractere: {caractere}\")\n",
    "print(f\"Código Decimal: {codigo}\")\n",
    "print(f\"Código Octal: {oct(codigo)}\")\n",
    "print(f\"Código Hexadecimal: {hex(codigo)}\")\n"
   ]
  },
  {
   "cell_type": "markdown",
   "metadata": {},
   "source": [
    "##### \"Em Python, os caracteres especiais como 'ç' e 'ã' são tratados normalmente como caracteres Unicode. O Unicode é um padrão de codificação de caracteres que abrange quase todos os caracteres de todos os sistemas de escrita do mundo. Você pode usar esses caracteres diretamente em strings em Python.\""
   ]
  },
  {
   "cell_type": "markdown",
   "metadata": {},
   "source": [
    "##### 4. Manipulação de variavel do tipo string"
   ]
  },
  {
   "cell_type": "markdown",
   "metadata": {},
   "source": [
    "##### O split separa as partes do meu nome em base as partes que estiverem em branco, ou seja os espaços encontrados, é dessa forma que a função vem por padrão. Já o \"len()\" é utilizado para evitar um erro caso n exista um sobrenome declarado."
   ]
  },
  {
   "cell_type": "code",
   "execution_count": 47,
   "metadata": {},
   "outputs": [],
   "source": [
    "nome_completo = \"Leonardo Ribeiro Barbosa Santos\"\n",
    "\n",
    "\n",
    "#Uso do split para separar por espaço cada parte do meu nome\n",
    "partes_do_nome = nome_completo.split()\n",
    "nome = partes_do_nome[0]\n",
    "sobrenome = partes_do_nome[1] if len(partes_do_nome) > 1 else \"\"\n",
    "segundo_sobrenome = partes_do_nome[2] if len(partes_do_nome) > 2 else \"\"\n",
    "terceiro_sobrenome = partes_do_nome[3] if len(partes_do_nome) > 3 else \"\"\n",
    "\n"
   ]
  },
  {
   "cell_type": "markdown",
   "metadata": {},
   "source": [
    "##### Com a ultilização da função \"min()\" com o parametro \"nome, sobrenome, segundo_sobrenome, terceiro_sobrenome\" dentro da função eu consigo saber sabe a ordem alfabética entre os quatros conjuntos de string, essa função consegue indentificar a menor em base as primeiras letras do alfabeto dos conjutos de strings."
   ]
  },
  {
   "cell_type": "code",
   "execution_count": 52,
   "metadata": {},
   "outputs": [],
   "source": [
    "ordem_alfabetica = min(nome, sobrenome, segundo_sobrenome, terceiro_sobrenome)"
   ]
  },
  {
   "cell_type": "markdown",
   "metadata": {},
   "source": [
    "##### Dessa vez a função len() é utilizada para fazer a contagem  de caracteres na variavel \"nome\", \"sobrenome\", \"segundo_sobrnome\" e \"terceiro_sobrenome\"."
   ]
  },
  {
   "cell_type": "code",
   "execution_count": 49,
   "metadata": {},
   "outputs": [],
   "source": [
    "quantidade_caracteres_nome = len(nome)\n",
    "quantidade_caracteres_sobrenome = len(sobrenome)\n",
    "quantidade_caracteres_sobrenome = len(segundo_sobrenome)\n",
    "quantidade_caracteres_sobrenome = len(terceiro_sobrenome)"
   ]
  },
  {
   "cell_type": "markdown",
   "metadata": {},
   "source": [
    "##### Com a função \"lower()\" eu deixo o nome completamente em minúsculo e em seguida comparo \"==\" com a mesma string, so que ordenada da direita pra esquerda, se True é o resultado é um palindromo, caso contrario a resposta será False."
   ]
  },
  {
   "cell_type": "code",
   "execution_count": 50,
   "metadata": {},
   "outputs": [],
   "source": [
    "e_palindromo = nome.lower() == nome.lower()[::-1]"
   ]
  },
  {
   "cell_type": "markdown",
   "metadata": {},
   "source": [
    "##### Aqui serã exibidas as saídas de todas questões mencionadas até o momento."
   ]
  },
  {
   "cell_type": "code",
   "execution_count": 53,
   "metadata": {},
   "outputs": [
    {
     "name": "stdout",
     "output_type": "stream",
     "text": [
      "Nome: Leonardo\n",
      "Sobrenome: Ribeiro\n",
      "Segundo sobrenome: Barbosa\n",
      "Terceiro nome: Santos\n",
      "Ordem alfabética: Barbosa\n",
      "Quantidade de caracteres no nome: 8\n",
      "Quantidade de caracteres no sobrenome: 6\n",
      "É um palíndromo: False\n"
     ]
    }
   ],
   "source": [
    "print(\"Nome:\", nome)\n",
    "print(\"Sobrenome:\", sobrenome)\n",
    "print(\"Segundo sobrenome:\", segundo_sobrenome)\n",
    "print(\"Terceiro nome:\", terceiro_sobrenome)\n",
    "print(\"Ordem alfabética:\", ordem_alfabetica)\n",
    "print(\"Quantidade de caracteres no nome:\", quantidade_caracteres_nome)\n",
    "print(\"Quantidade de caracteres no sobrenome:\", quantidade_caracteres_sobrenome)\n",
    "print(\"É um palíndromo:\", e_palindromo)"
   ]
  },
  {
   "cell_type": "markdown",
   "metadata": {},
   "source": [
    "#### 5. Manipulação de variáveis ponto flutuante.\n",
    "##### Operadores aritméticos em ponto flutuante:"
   ]
  },
  {
   "cell_type": "code",
   "execution_count": 56,
   "metadata": {},
   "outputs": [
    {
     "name": "stdout",
     "output_type": "stream",
     "text": [
      "9.0\n",
      "5.0\n",
      "14.0\n",
      "3.5\n",
      "49.0\n"
     ]
    }
   ],
   "source": [
    "# Operadores Aritméticos\n",
    "a = 7.0\n",
    "b = 2.0\n",
    "\n",
    "soma = a + b\n",
    "subtracao = a - b\n",
    "multiplicacao = a * b\n",
    "divisao = a / b\n",
    "exponenciação = a ** b \n",
    "\n",
    "\n",
    "print(soma)\n",
    "print(subtracao)\n",
    "print(multiplicacao)\n",
    "print(divisao)\n",
    "print(exponenciação)"
   ]
  },
  {
   "cell_type": "markdown",
   "metadata": {},
   "source": [
    "##### Operadores aritmeticos compostos em python:"
   ]
  },
  {
   "cell_type": "code",
   "execution_count": 80,
   "metadata": {},
   "outputs": [
    {
     "name": "stdout",
     "output_type": "stream",
     "text": [
      "3.0\n"
     ]
    }
   ],
   "source": [
    "# A operação Composta (y += x) - Equivalente a y = y + x\n",
    "\n",
    "y = 3.0\n",
    "\n",
    "# A operação Composta (y += x) - Equivalente a y = y + x\n",
    "y += 2.5  # Agora y é 5.5\n",
    "\n",
    "# E assim sucessivamente a depende do operador aritmético usado.\n",
    "\n",
    "y -= 1.5  # Agora y é 4.0\n",
    "\n",
    "\n",
    "y *= 1.5  # Agora y é 6.0\n",
    "\n",
    "\n",
    "y /= 2.0  # Agora y é 3.0\n",
    "\n",
    "print(y)\n"
   ]
  },
  {
   "cell_type": "markdown",
   "metadata": {},
   "source": [
    "##### Maior e Menor Potência de 2 Representada com Variáveis de Ponto Flutuante:"
   ]
  },
  {
   "cell_type": "markdown",
   "metadata": {},
   "source": [
    "##### Com um import a bliblioteca sys eu verificar qual é o maior e o menor valor a ser representado pelo ponto flutuante."
   ]
  },
  {
   "cell_type": "code",
   "execution_count": 78,
   "metadata": {},
   "outputs": [
    {
     "name": "stdout",
     "output_type": "stream",
     "text": [
      "Maior Potência de 2: 2** 1024\n",
      "Menor Potência de 2: 2** -1021\n"
     ]
    }
   ],
   "source": [
    "import sys\n",
    "\n",
    "# Maior potência de 2 representada com variáveis de ponto flutuante\n",
    "maior_potencia_de_2 = sys.float_info.max_exp\n",
    "\n",
    "# Menor potência de 2 representada com variáveis de ponto flutuante\n",
    "menor_potencia_de_2 = sys.float_info.min_exp\n",
    "\n",
    "print(f\"Maior Potência de 2: 2** {maior_potencia_de_2}\")\n",
    "print(f\"Menor Potência de 2: 2** {menor_potencia_de_2}\")"
   ]
  },
  {
   "cell_type": "markdown",
   "metadata": {},
   "source": [
    "##### As variáveis numéricas em Python são imutáveis, o que significa que, quando você realiza uma operação aritmética, está criando um novo objeto numérico(um novo local na memoria vai ser alocado) a unica mmudança que acontece em a e pelo incremento de 1.0 acrescentando ao antigo valor."
   ]
  },
  {
   "cell_type": "code",
   "execution_count": 81,
   "metadata": {},
   "outputs": [
    {
     "name": "stdout",
     "output_type": "stream",
     "text": [
      "6.0\n",
      "5.0\n"
     ]
    }
   ],
   "source": [
    "a = 5.0\n",
    "b = a  # 'b' agora referencia o mesmo objeto que 'a'\n",
    "\n",
    "a += 1.0  # Isso cria um novo objeto para 'a' é a variavel 'b' permanece inalterada\n",
    "\n",
    "print(a) \n"
   ]
  },
  {
   "cell_type": "markdown",
   "metadata": {},
   "source": [
    "##### Varios metodos estão disponiveis para ponto flutuante alguns deles são os citados abaixo com sua breve descrição."
   ]
  },
  {
   "cell_type": "code",
   "execution_count": 82,
   "metadata": {},
   "outputs": [
    {
     "name": "stdout",
     "output_type": "stream",
     "text": [
      "(1870920823049317, 562949953421312)\n",
      "0x1.a965ecc3e3194p+1\n",
      "False\n"
     ]
    }
   ],
   "source": [
    "n=3.323423\n",
    "\n",
    "print(n.as_integer_ratio())  # Retorna a representação como fração\n",
    "print(n.hex())               # Retorna a representação hexadecimal\n",
    "print(n.is_integer())        # Verifica se o número é um inteiro"
   ]
  },
  {
   "cell_type": "markdown",
   "metadata": {},
   "source": [
    "#### 6. Manipulando listas"
   ]
  },
  {
   "cell_type": "markdown",
   "metadata": {},
   "source": [
    "##### \"Esquecer seus antepassados é ser um riacho sem fonte, uma árvore sem raízes.\""
   ]
  },
  {
   "cell_type": "code",
   "execution_count": 60,
   "metadata": {},
   "outputs": [
    {
     "name": "stdout",
     "output_type": "stream",
     "text": [
      "Digite seu ano de nascimento: \n",
      "Seu signo é  2\n",
      "Cão\n"
     ]
    }
   ],
   "source": [
    "\n",
    "\n",
    "'''rato =  1936, 1948, 1960, 1972, 1984, 1996, 2008, 2020\n",
    "boi =  1937, 1949, 1961, 1973, 1985, 1997, 2009, 2021\n",
    "tigre = 1938, 1950, 1962, 1974, 1986, 1998, 2010, 2022\n",
    "coelho = 1939, 1951, 1963, 1975, 1987, 1999, 2011, 2023\n",
    "dragao =1940, 1952, 1964, 1976, 1988, 2000, 2012, 2024\n",
    "Serpete = 1941, 1953, 1965, 1977, 1989, 2001, 2013, 2025\n",
    "Cavalo = 1942, 1954, 1966, 1978, 1990, 2002, 2014, 2026\n",
    "Carneiro =  1943, 1955, 1967, 1979, 1991, 2003, 2015, 2027\n",
    "Macaco = 1944, 1956, 1968, 1980, 1992, 2004, 2016, 2028\n",
    "Galo = 1945, 1957, 1969, 1981, 1993, 2005, 2017, 2029\n",
    "Cachorro =  1946, 1958, 1970, 1982, 1994, 2006, 2018, 2030\n",
    "Javali =  1947, 1959, 1971, 1983, 1995, 2007, 2019, 2031'''\n",
    "\n",
    "#L = [0,1,2,3,4,5,6,7,8,9,10.11]\n",
    "\n",
    "print(\"Digite seu ano de nascimento: \")\n",
    "ano = int(input()) \n",
    "signo= ano % 12\n",
    "print(\"Seu signo é \",signo)\n",
    "if(signo == 0):\n",
    "    print(\"Macaco\")\n",
    "if(signo == 1):\n",
    "    print(\"Galo\")\n",
    "if(signo == 2):\n",
    "    print(\"Cão\")\n",
    "if(signo == 3):\n",
    "    print(\"Porco\")\n",
    "if(signo == 4):\n",
    "    print(\"Rato\")\n",
    "if(signo == 5):\n",
    "    print(\"Boi\")\n",
    "if(signo == 6):\n",
    "    print(\"Tigre\")\n",
    "if(signo == 7):\n",
    "    print(\"Coelho\")\n",
    "if(signo == 8):\n",
    "    print(\"Dragão\")\n",
    "if(signo == 9):\n",
    "    print(\"Serpente\")\n",
    "if(signo == 10):\n",
    "    print(\"Cavalo\")\n",
    "if(signo == 11):\n",
    "    print(\"Carneiro\")"
   ]
  }
 ],
 "metadata": {
  "kernelspec": {
   "display_name": "Python 3",
   "language": "python",
   "name": "python3"
  },
  "language_info": {
   "codemirror_mode": {
    "name": "ipython",
    "version": 3
   },
   "file_extension": ".py",
   "mimetype": "text/x-python",
   "name": "python",
   "nbconvert_exporter": "python",
   "pygments_lexer": "ipython3",
   "version": "3.11.6"
  }
 },
 "nbformat": 4,
 "nbformat_minor": 2
}
